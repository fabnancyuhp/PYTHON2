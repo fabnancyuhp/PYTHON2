{
 "cells": [
  {
   "cell_type": "markdown",
   "metadata": {
    "collapsed": false
   },
   "source": [
    "Dans ce chapitre on considére que les listes, les tuples, les fonctions sont maitrisés. Le but de ce chapitre est \n",
    "<ul>\n",
    "    <li>D'introduire les packages numpy, scipy, matplotlib. </li>\n",
    "    <li>De construire des matrices et des vecteurs</li>\n",
    "    <li>De faire des simulations</li>\n",
    "    <li>De tracer des graphiques</li>\n",
    "</ul>"
   ]
  },
  {
   "cell_type": "markdown",
   "metadata": {
    "collapsed": false
   },
   "source": [
    "# Introduction à la librairie numpy : Matrices et vecteurs en python"
   ]
  },
  {
   "cell_type": "markdown",
   "metadata": {
    "collapsed": false
   },
   "source": [
    "On va créer la matrice suivante:\n",
    "    $$A=\\left(\\begin{array}{ccc}\n",
    "    1.1 & 2.6 & 5\\\\\n",
    "    3 & 3.6 & 9\\\\\n",
    "    5.5 & 4 & 4.9\n",
    "    \\end{array}\\right)$$\n"
   ]
  },
  {
   "cell_type": "code",
   "execution_count": 1,
   "metadata": {
    "collapsed": false
   },
   "outputs": [
    {
     "data": {
      "text/plain": [
       "array([[1.1, 2.6, 5. ],\n",
       "       [3. , 3.6, 9. ],\n",
       "       [5.5, 4. , 4.9]])"
      ]
     },
     "execution_count": 1,
     "metadata": {
     },
     "output_type": "execute_result"
    }
   ],
   "source": [
    "import numpy as np\n",
    "A = np.array([[1.1,2.6,5],[3,3.6,9],[5.5,4,4.9]])\n",
    "A"
   ]
  },
  {
   "cell_type": "markdown",
   "metadata": {
    "collapsed": false
   },
   "source": [
    "On détermine les dimensions de A:"
   ]
  },
  {
   "cell_type": "code",
   "execution_count": 2,
   "metadata": {
    "collapsed": false
   },
   "outputs": [
    {
     "data": {
      "text/plain": [
       "(3, 3)"
      ]
     },
     "execution_count": 2,
     "metadata": {
     },
     "output_type": "execute_result"
    }
   ],
   "source": [
    "A.shape"
   ]
  },
  {
   "cell_type": "markdown",
   "metadata": {
    "collapsed": false
   },
   "source": [
    "On va céer le vecteur suivant : B = [1.2,3.8,5.9]:"
   ]
  },
  {
   "cell_type": "code",
   "execution_count": 3,
   "metadata": {
    "collapsed": false
   },
   "outputs": [
    {
     "data": {
      "text/plain": [
       "array([1.2, 3.8, 5.9])"
      ]
     },
     "execution_count": 3,
     "metadata": {
     },
     "output_type": "execute_result"
    }
   ],
   "source": [
    "import numpy as np\n",
    "B = np.array([1.2,3.8,5.9])\n",
    "B"
   ]
  },
  {
   "cell_type": "markdown",
   "metadata": {
    "collapsed": false
   },
   "source": [
    "On détermine les dimension de B:"
   ]
  },
  {
   "cell_type": "code",
   "execution_count": 4,
   "metadata": {
    "collapsed": false
   },
   "outputs": [
    {
     "data": {
      "text/plain": [
       "(3,)"
      ]
     },
     "execution_count": 4,
     "metadata": {
     },
     "output_type": "execute_result"
    }
   ],
   "source": [
    "B.shape"
   ]
  },
  {
   "cell_type": "markdown",
   "metadata": {
    "collapsed": false
   },
   "source": [
    "Voici quelques fonctions utiles en statistique:\n",
    "<ul>\n",
    "    <li>np.sum : somme d'array </li>\n",
    "    <li>np.cumsum : somme cumulée d'un array</li>\n",
    "    <li>np.var : variance</li>\n",
    "    <li>np.mean : moyenne</li>\n",
    "    <li>np.size : taille</li>\n",
    "</ul>"
   ]
  },
  {
   "cell_type": "markdown",
   "metadata": {
    "collapsed": false
   },
   "source": [
    "On va montrer comment s'utilise la fonction np.var sur la matrice A. Les autres fonctions s'utilisent de la même façon."
   ]
  },
  {
   "cell_type": "markdown",
   "metadata": {
    "collapsed": false
   },
   "source": [
    "Variance de chaque colonne:"
   ]
  },
  {
   "cell_type": "code",
   "execution_count": 7,
   "metadata": {
    "collapsed": false
   },
   "outputs": [
    {
     "data": {
      "text/plain": [
       "array([3.24666667, 0.34666667, 3.64666667])"
      ]
     },
     "execution_count": 7,
     "metadata": {
     },
     "output_type": "execute_result"
    }
   ],
   "source": [
    "np.var(A,axis=0)"
   ]
  },
  {
   "cell_type": "code",
   "execution_count": 0,
   "metadata": {
    "collapsed": false
   },
   "outputs": [
   ],
   "source": [
    "Variance de chaque ligne:"
   ]
  },
  {
   "cell_type": "code",
   "execution_count": 8,
   "metadata": {
    "collapsed": false
   },
   "outputs": [
    {
     "data": {
      "text/plain": [
       "array([2.58, 7.28, 0.38])"
      ]
     },
     "execution_count": 8,
     "metadata": {
     },
     "output_type": "execute_result"
    }
   ],
   "source": [
    "np.var(A,axis=1)"
   ]
  },
  {
   "cell_type": "markdown",
   "metadata": {
    "collapsed": false
   },
   "source": [
    "Variance globale:"
   ]
  },
  {
   "cell_type": "code",
   "execution_count": 9,
   "metadata": {
    "collapsed": false
   },
   "outputs": [
    {
     "data": {
      "text/plain": [
       "4.42"
      ]
     },
     "execution_count": 9,
     "metadata": {
     },
     "output_type": "execute_result"
    }
   ],
   "source": [
    "np.var(A)"
   ]
  },
  {
   "cell_type": "markdown",
   "metadata": {
    "collapsed": false
   },
   "source": [
    "<h3> Exercice 1 </h3>\n",
    "Calculer la moyenne sur chaque ligne, sur chaques colonnes de la matrice :\n",
    "$A=\\left(\\begin{array}{cccc}\n",
    "    5 & 2.6 & 5 & 9\\\\\n",
    "    4 & 3.6 & 9 & 10\\\\\n",
    "    5.5 & 4 & 6 & 7\n",
    "    \\end{array}\\right) $"
   ]
  },
  {
   "cell_type": "markdown",
   "metadata": {
    "collapsed": false
   },
   "source": [
    "# Simulation avec Python\n",
    "Le package numpy de Python permet de réaliser des objets array simulés.\n",
    "<ul>\n",
    "    <li>numpy.random.uniform(low=a, high=b, size=None) : simulation uniforme sur [a,b] </li>\n",
    "    <li>numpy.random.normal(loc=a, scale=b, size=None) : simulation d'une va normal de moyenne a et d'écart type b</li>\n",
    "    <li>numpy.random.poisson</li>\n",
    "</ul>"
   ]
  },
  {
   "cell_type": "markdown",
   "metadata": {
    "collapsed": false
   },
   "source": [
    "On va simuler une matrice avec numpy.random.uniform:"
   ]
  },
  {
   "cell_type": "code",
   "execution_count": 16,
   "metadata": {
    "collapsed": false
   },
   "outputs": [
   ],
   "source": [
    "import numpy as np\n",
    "Uni = np.random.uniform(2,6,size=(3,2))\n",
    "Uni"
   ]
  },
  {
   "cell_type": "markdown",
   "metadata": {
    "collapsed": false
   },
   "source": [
    "On va simuler une matrice et un vecteur avec numpy.random.normal:"
   ]
  },
  {
   "cell_type": "code",
   "execution_count": 19,
   "metadata": {
    "collapsed": false
   },
   "outputs": [
    {
     "data": {
      "text/plain": [
       "array([[-1.80259786,  3.91781508,  1.25704838],\n",
       "       [ 4.64228033,  5.23646808, -0.12003757]])"
      ]
     },
     "execution_count": 19,
     "metadata": {
     },
     "output_type": "execute_result"
    }
   ],
   "source": [
    "import numpy as np\n",
    "Norm = np.random.normal(2,3,size=(2,3))\n",
    "Norm"
   ]
  },
  {
   "cell_type": "code",
   "execution_count": 22,
   "metadata": {
    "collapsed": false
   },
   "outputs": [
    {
     "data": {
      "text/plain": [
       "array([7.05764819, 4.36788279, 5.63441866, 5.91012783, 8.30667172])"
      ]
     },
     "execution_count": 22,
     "metadata": {
     },
     "output_type": "execute_result"
    }
   ],
   "source": [
    "Nve = np.random.normal(6,2,size=5)\n",
    "Nve"
   ]
  },
  {
   "cell_type": "markdown",
   "metadata": {
    "collapsed": false
   },
   "source": [
    "<h2>Simulation d'un vecteur de probabilité:</h2>\n",
    "On va simuler le vecteur de probabilité v=[1/4,1/5,1/5,1-1/4-2*1/5] sur les états [a,b,c,d]:"
   ]
  },
  {
   "cell_type": "code",
   "execution_count": 24,
   "metadata": {
    "collapsed": false
   },
   "outputs": [
    {
     "data": {
      "text/plain": [
       "array(['a', 'c', 'a', 'd', 'c', 'a', 'c', 'b', 'd', 'b', 'b', 'b', 'a',\n",
       "       'c', 'a', 'd', 'd', 'd', 'a', 'd'], dtype='<U1')"
      ]
     },
     "execution_count": 24,
     "metadata": {
     },
     "output_type": "execute_result"
    }
   ],
   "source": [
    "import numpy as np\n",
    "proba = np.array([1/4,1/5,1/5,1-1/4-2*1/5])\n",
    "etat = np.array(['a','b','c','d'])\n",
    "Simu = np.random.choice(etat, size=20, replace=True, p=proba)\n",
    "Simu"
   ]
  },
  {
   "cell_type": "markdown",
   "metadata": {
    "collapsed": false
   },
   "source": [
    "<h3>Exercice 2</h3>\n",
    "Simuler un vecteur de probabilité sur l'ensemble des état ['voit','velo','trot'] dont les probabilité de chaque état sont [1/6 , 2/6 , 3/6]. Simuler ensuite un objet numpy.array de taille 10 issu d'une loi normal de moyenne 4 et variance 10."
   ]
  },
  {
   "cell_type": "markdown",
   "metadata": {
    "collapsed": false
   },
   "source": [
    "# Fonction particuliere sur les objet array\n",
    "On présente des fonction permettant la modification, la construction d'objet array.\n",
    "<ul>\n",
    "    <li> numpy.arange([start, ]stop, [step, ]dtype=None) :</li>\n",
    "    <li> numpy.linspace(start, stop, num=50, endpoint=True, retstep=False, dtype=None, axis=0)</li>\n",
    "    <li> numpy.insert(arr, obj, values, axis=None)</li>\n",
    "    <li> numpy.append(arr, values, axis=None)</li>\n",
    "    <li> numpy.concatenate((a1, a2, ...), axis=0, out=None)</li>\n",
    "    <li> numpy.stack(arrays, axis=0, out=None)</li>\n",
    "    <li> numpy.ones</li>\n",
    "</ul>"
   ]
  },
  {
   "cell_type": "markdown",
   "metadata": {
    "collapsed": false
   },
   "source": [
    "On construit V1 un vecteur comprenant des nombres compris entre 2 et 8 par pas de 2."
   ]
  },
  {
   "cell_type": "code",
   "execution_count": 6,
   "metadata": {
    "collapsed": false
   },
   "outputs": [
    {
     "data": {
      "text/plain": [
       "array([2, 4, 6, 8])"
      ]
     },
     "execution_count": 6,
     "metadata": {
     },
     "output_type": "execute_result"
    }
   ],
   "source": [
    "import numpy as np\n",
    "V1 = np.arange(2,10,2)\n",
    "V1"
   ]
  },
  {
   "cell_type": "markdown",
   "metadata": {
    "collapsed": false
   },
   "source": [
    "On construit un vecteur V2 comprenant  5 valeurs comprises entre 6 et 8 :"
   ]
  },
  {
   "cell_type": "code",
   "execution_count": 11,
   "metadata": {
    "collapsed": false
   },
   "outputs": [
    {
     "data": {
      "text/plain": [
       "array([6. , 6.5, 7. , 7.5, 8. ])"
      ]
     },
     "execution_count": 11,
     "metadata": {
     },
     "output_type": "execute_result"
    }
   ],
   "source": [
    "import numpy as np\n",
    "V2 = np.linspace(6,8,5)\n",
    "V2"
   ]
  },
  {
   "cell_type": "code",
   "execution_count": 0,
   "metadata": {
    "collapsed": false
   },
   "outputs": [
   ],
   "source": [
    "Ici, on concatène V1 et V2:"
   ]
  },
  {
   "cell_type": "code",
   "execution_count": 12,
   "metadata": {
    "collapsed": false
   },
   "outputs": [
    {
     "data": {
      "text/plain": [
       "array([2. , 4. , 6. , 8. , 6. , 6.5, 7. , 7.5, 8. ])"
      ]
     },
     "execution_count": 12,
     "metadata": {
     },
     "output_type": "execute_result"
    }
   ],
   "source": [
    "np.concatenate([V1,V2])"
   ]
  },
  {
   "cell_type": "markdown",
   "metadata": {
    "collapsed": false
   },
   "source": [
    "On va concatener une matrice (3,3) avec une matrice (3,2) selon l'axe horizontal:"
   ]
  },
  {
   "cell_type": "code",
   "execution_count": 14,
   "metadata": {
    "collapsed": false
   },
   "outputs": [
    {
     "data": {
      "text/plain": [
       "array([[1, 2, 6, 6, 5],\n",
       "       [4, 5, 6, 4, 4],\n",
       "       [8, 8, 8, 2, 1]])"
      ]
     },
     "execution_count": 14,
     "metadata": {
     },
     "output_type": "execute_result"
    }
   ],
   "source": [
    "import numpy as np\n",
    "M1 = np.array([[1,2,6],[4,5,6],[8,8,8]])\n",
    "M2 = np.array([[6,5],[4,4],[2,1]])\n",
    "np.concatenate([M1,M2],axis=1)"
   ]
  },
  {
   "cell_type": "markdown",
   "metadata": {
    "collapsed": false
   },
   "source": [
    "On va créer un vecteur ayant que des 1 excepté son 9 ieme élément qui vaut 15"
   ]
  },
  {
   "cell_type": "code",
   "execution_count": 19,
   "metadata": {
    "collapsed": false
   },
   "outputs": [
    {
     "data": {
      "text/plain": [
       "array([ 1.,  1.,  1.,  1.,  1.,  1.,  1.,  1.,  1., 15.,  1.,  1.,  1.,\n",
       "        1.,  1.,  1.])"
      ]
     },
     "execution_count": 19,
     "metadata": {
     },
     "output_type": "execute_result"
    }
   ],
   "source": [
    "V3 = np.ones(15)\n",
    "np.insert(V3,9,15)"
   ]
  },
  {
   "cell_type": "code",
   "execution_count": 0,
   "metadata": {
    "collapsed": false
   },
   "outputs": [
   ],
   "source": [
    "On va utiliser append pour "
   ]
  },
  {
   "cell_type": "code",
   "execution_count": 25,
   "metadata": {
    "collapsed": false
   },
   "outputs": [
    {
     "data": {
      "text/plain": [
       "array([5. , 8. , 9. , 9. , 9. , 5. , 6.8])"
      ]
     },
     "execution_count": 25,
     "metadata": {
     },
     "output_type": "execute_result"
    }
   ],
   "source": [
    "import numpy as np\n",
    "V1 = np.array([5,8,9])\n",
    "V2 = np.array([9,9,5,6.8])\n",
    "np.append(V1,V2)"
   ]
  },
  {
   "cell_type": "markdown",
   "metadata": {
    "collapsed": false
   },
   "source": [
    "On va créer une matrice ayant 5 fois la même ligne et 1 ligne différents: "
   ]
  },
  {
   "cell_type": "code",
   "execution_count": 27,
   "metadata": {
    "collapsed": false
   },
   "outputs": [
    {
     "data": {
      "text/plain": [
       "array([[1. , 4. , 2.3, 9. ],\n",
       "       [1. , 4. , 2.3, 9. ],\n",
       "       [1. , 9.9, 5.2, 1. ],\n",
       "       [1. , 4. , 2.3, 9. ],\n",
       "       [1. , 4. , 2.3, 9. ],\n",
       "       [1. , 4. , 2.3, 9. ]])"
      ]
     },
     "execution_count": 27,
     "metadata": {
     },
     "output_type": "execute_result"
    }
   ],
   "source": [
    "import numpy as np\n",
    "V1 = np.array([[1,4,2.3,9]])\n",
    "V2 = np.array([[1,9.9,5.2,1]])\n",
    "np.concatenate([V1,V1,V2,V1,V1,V1],axis=0)"
   ]
  },
  {
   "cell_type": "markdown",
   "metadata": {
    "collapsed": false
   },
   "source": [
    "<h3> Exercice 3</h3>\n",
    "Créer la matrice suivante en utilisant np.concatenate, np.one, np.insert:\n",
    "$$\\left(\\begin{array}{ccccc}\n",
    "2 &2 &5 &2 & 2\\\\\n",
    "2 &2 &5 &2 & 2\\\\\n",
    "2 &2 &5 &2 & 2\\\\\n",
    "2 &2 &5 &2 & 2\\\\\n",
    "2 &2 &5 &2 &2\\\\\n",
    "2 &2 &5 &2 &2\n",
    "\\end{array}\\right)\n",
    "$$"
   ]
  },
  {
   "cell_type": "code",
   "execution_count": 10,
   "metadata": {
    "collapsed": false
   },
   "outputs": [
    {
     "data": {
      "text/plain": [
       "array([[2, 2, 5, 2, 2],\n",
       "       [2, 2, 5, 2, 2],\n",
       "       [2, 2, 5, 2, 2],\n",
       "       [2, 2, 5, 2, 2],\n",
       "       [2, 2, 5, 2, 2],\n",
       "       [2, 2, 5, 2, 2]])"
      ]
     },
     "execution_count": 10,
     "metadata": {
     },
     "output_type": "execute_result"
    }
   ],
   "source": [
    "import numpy as np\n",
    "V1 = 2*np.ones(4,dtype=int)\n",
    "V2 = np.insert(V1,2,5)\n",
    "V2 = V2.reshape(1,5)\n",
    "M = np.concatenate([V2]*6,axis=0)\n",
    "M "
   ]
  },
  {
   "cell_type": "markdown",
   "metadata": {
    "collapsed": false
   },
   "source": [
    "# Courbe de fonction\n",
    "<ul>\n",
    "    <li> numpy.cos</li>\n",
    "    <li> numpy.sin</li>\n",
    "    <li> numpy.log</li>\n",
    "    <li> numpy.exp</li>\n",
    "</ul>\n",
    "On va tracer la courbe de$f(x)=\\ln(1+(sin(x))^{2})$ sur [0,5]. On utilise le package matplotlib.pyplot pour tracer cette courbe."
   ]
  },
  {
   "cell_type": "code",
   "execution_count": 1,
   "metadata": {
    "collapsed": false
   },
   "outputs": [
    {
     "data": {
      "image/png": "[encoded data removed]",
      "text/plain": [
       "<Figure size 432x288 with 1 Axes>"
      ]
     },
     "execution_count": 1,
     "metadata": {
      "image/png": {
       "height": 248,
       "width": 372
      }
     },
     "output_type": "execute_result"
    }
   ],
   "source": [
    "import numpy as np\n",
    "x = np.linspace(0,5,40)\n",
    "y = np.log(1+np.sin(x)**2)\n",
    "\n",
    "import matplotlib.pyplot as plt\n",
    "plt.plot(x,y)\n",
    "plt.show()"
   ]
  },
  {
   "cell_type": "markdown",
   "metadata": {
    "collapsed": false
   },
   "source": [
    "# Exemple\n",
    "* Tracer la courbe de la fonction $f(x)=\\frac{1}{4\\Gamma(2)}xe^{-x/2}$ ou $\\Gamma(t)=\\int_{0}^{+\\infty}x^{t-1}e^{-x}dx$ sur [0,10]. On utilise la fonction gamma fournit par package scipy. \n",
    "* Mettre en évidence l'aire sous la courbe entre 2 et 6.\n",
    "* Calculer $\\int_{2}^{4}\\frac{1}{4\\Gamma(2)}xe^{-x/2}dx$"
   ]
  },
  {
   "cell_type": "code",
   "execution_count": 3,
   "metadata": {
    "collapsed": false,
    "scrolled": true
   },
   "outputs": [
    {
     "data": {
      "image/png": "[encoded data removed]",
      "text/plain": [
       "<Figure size 432x288 with 1 Axes>"
      ]
     },
     "execution_count": 3,
     "metadata": {
      "image/png": {
       "height": 248,
       "width": 385
      }
     },
     "output_type": "execute_result"
    }
   ],
   "source": [
    "from scipy.special import gamma\n",
    "import numpy as np\n",
    "import matplotlib.pyplot as plt \n",
    "\n",
    "x = np.linspace(0,10,100)\n",
    "y = (1/(4*gamma(2)))*x*np.exp(-x/2)\n",
    "plt.plot(x,y)\n",
    "x1 = np.linspace(2,6,20)\n",
    "y1 = (1/(4*gamma(2)))*x1*np.exp(-x1/2)\n",
    "plt.fill_between(x1,y1, color='blue',alpha=0.3)\n",
    "plt.show()"
   ]
  },
  {
   "cell_type": "markdown",
   "metadata": {
    "collapsed": false
   },
   "source": [
    "On calcul l'integrale à laide d'une somme de Riemman:\n",
    "    $\\frac{b-a}{n}\\sum_{i=0}^{n}f(a+i(b-a)/n)$"
   ]
  },
  {
   "cell_type": "code",
   "execution_count": 4,
   "metadata": {
    "collapsed": false
   },
   "outputs": [
    {
     "data": {
      "text/plain": [
       "0.329647113167648"
      ]
     },
     "execution_count": 4,
     "metadata": {
     },
     "output_type": "execute_result"
    }
   ],
   "source": [
    "x = np.linspace(2,4,100)\n",
    "y = (1/(4*gamma(2)))*x*np.exp(-x/2)\n",
    "((4-2)/100)*np.sum(y)"
   ]
  },
  {
   "cell_type": "markdown",
   "metadata": {
    "collapsed": false
   },
   "source": [
    "On verifie les résultats. On remarque l'utilisation du package scipy."
   ]
  },
  {
   "cell_type": "code",
   "execution_count": 9,
   "metadata": {
    "collapsed": false
   },
   "outputs": [
    {
     "data": {
      "text/plain": [
       "(0.32975303263304656, 3.660994092691789e-15)"
      ]
     },
     "execution_count": 9,
     "metadata": {
     },
     "output_type": "execute_result"
    }
   ],
   "source": [
    "def f(x):\n",
    "    y= (1/(4*gamma(2)))*x*np.exp(-x/2)\n",
    "    return(y)\n",
    "\n",
    "from scipy.integrate import quad\n",
    "quad(f,2,4)"
   ]
  },
  {
   "cell_type": "markdown",
   "metadata": {
    "collapsed": false
   },
   "source": [
    "<h3>Exercice 4</h3>\n",
    "Soit $f(x)=\\frac{1}{\\Gamma(3)}x^{2}e^{-x}$\n",
    "<ul>\n",
    "<li>Tracer la courbe de f entre 0 et 20.</li>\n",
    "<li>Déssiner l'aire sous la coubre entre 3 et 10</li>\n",
    "<li>Calculer $\\int_{3}^{10}f(x)dx.$</li>\n",
    "</ul>\n"
   ]
  },
  {
   "cell_type": "markdown",
   "metadata": {
    "collapsed": false
   },
   "source": [
    "# Barplot et histogramme"
   ]
  },
  {
   "cell_type": "markdown",
   "metadata": {
    "collapsed": false
   },
   "source": [
    "<b>Exemple de Barplot </b>. Parmi un ensemble de 17 étudiants, 8 sont équipés d'ordinateur windows, 6 d'apple et 3 d'ubuntu. On va représenter ces données avec un barplot."
   ]
  },
  {
   "cell_type": "code",
   "execution_count": 23,
   "metadata": {
    "collapsed": false
   },
   "outputs": [
    {
     "data": {
      "image/png": "[encoded data removed]",
      "text/plain": [
       "<Figure size 432x288 with 1 Axes>"
      ]
     },
     "execution_count": 23,
     "metadata": {
      "image/png": {
       "height": 258,
       "width": 352
      },
      "needs_background": "light"
     },
     "output_type": "execute_result"
    }
   ],
   "source": [
    "import numpy as np\n",
    "import matplotlib.pyplot as plt\n",
    "\n",
    "\n",
    "#les noms de bars\n",
    "bars = np.array(['windows','apple','ubuntu'])\n",
    "y_pos = np.arange(len(bars))\n",
    "\n",
    "#la hauteur des bars\n",
    "height = np.array([8,6,3])\n",
    "\n",
    "\n",
    "barlist=plt.bar(y_pos, height,edgecolor='blue',alpha=0.7,color=['blue','blue','blue']) #\n",
    "plt.xticks(y_pos,bars,color='black',fontweight='bold')\n",
    "#plt.tick_params(top='off', bottom='off', left='off', right='off', labelleft='off', labelbottom='on')\n",
    "#for spine in plt.gca().spines.values():\n",
    "    #spine.set_visible(False)\n",
    "plt.box(False)\n",
    "plt.yticks([])\n",
    "for i in range(0,len(height)):\n",
    "    plt.text(y_pos[i],height[i]+0.5,str(height[i]),color='black',fontweight='bold')\n",
    "\n",
    "#    \n",
    "#for i in range(0,len(height)):\n",
    "    #barlist[i].set_color('blue',alpha=height[i]/np.sum(height))\n",
    "plt.show()"
   ]
  },
  {
   "cell_type": "markdown",
   "metadata": {
    "collapsed": false
   },
   "source": [
    "<h3>Exercice 5</h3>\n",
    "Dans la liste python ci dessous on 5 modalitées : A,B,C,D. Représenter ces données à l'aide d'un diagramme en bar. Chaque bar représente un pourcentage."
   ]
  },
  {
   "cell_type": "code",
   "execution_count": 30,
   "metadata": {
    "collapsed": false
   },
   "outputs": [
    {
     "data": {
      "text/plain": [
       "array(['C', 'D', 'B', 'D', 'C', 'D'], dtype='<U1')"
      ]
     },
     "execution_count": 30,
     "metadata": {
     },
     "output_type": "execute_result"
    }
   ],
   "source": [
    "#executer la cellule\n",
    "import numpy as np\n",
    "np.random.seed(1998)\n",
    "\n",
    "proba = [0.1,0.2,0.3,0.4]\n",
    "etat = np.array(['A','B','C','D'])\n",
    "Simu = np.random.choice(etat, size=1000, replace=True, p=proba)\n",
    "Simu[0:6]"
   ]
  },
  {
   "cell_type": "markdown",
   "metadata": {
    "collapsed": false
   },
   "source": [
    "<b>Exemple d'histogramme </b>\n",
    "* Simuler un échantillon de Poisson de parametre 4 et de taille 10 000.\n",
    "* Tracer son histogramme.\n",
    "* Tracer dans la meme figure que l'histoire la courbe $f(x)=\\frac{1}{2\\sqrt{2\\pi}}e^{-\\frac{1}{2}\\left(\\frac{x-4}{2}\\right)^{2}}$ entre 0 et 15."
   ]
  },
  {
   "cell_type": "markdown",
   "metadata": {
    "collapsed": false
   },
   "source": [
    "On simule l'échantillon de loi de poisson"
   ]
  },
  {
   "cell_type": "code",
   "execution_count": 15,
   "metadata": {
    "collapsed": false
   },
   "outputs": [
   ],
   "source": [
    "import numpy as np\n",
    "np.random.seed(1998)\n",
    "pois = np.random.poisson(4, 10000)"
   ]
  },
  {
   "cell_type": "markdown",
   "metadata": {
    "collapsed": false
   },
   "source": [
    "On trace l'histogrammme en utilisant plt.hist"
   ]
  },
  {
   "cell_type": "code",
   "execution_count": 16,
   "metadata": {
    "collapsed": false
   },
   "outputs": [
    {
     "data": {
      "text/plain": [
       "<function matplotlib.pyplot.show(*args, **kw)>"
      ]
     },
     "execution_count": 16,
     "metadata": {
     },
     "output_type": "execute_result"
    },
    {
     "data": {
      "image/png": "[encoded data removed]",
      "text/plain": [
       "<Figure size 432x288 with 1 Axes>"
      ]
     },
     "execution_count": 16,
     "metadata": {
      "image/png": {
       "height": 252,
       "width": 385
      }
     },
     "output_type": "execute_result"
    }
   ],
   "source": [
    "import numpy as np\n",
    "import matplotlib.pyplot as plt\n",
    "plt.hist(pois,bins='sturges',density=True)  #sturges\n",
    "x = np.linspace(0,14,100)\n",
    "y = (1/(2*np.sqrt(2*np.pi)))*np.exp(-(1/2)*((x-4)/2)**2)\n",
    "plt.plot(x,y,color='black')\n",
    "plt.show"
   ]
  },
  {
   "cell_type": "markdown",
   "metadata": {
    "collapsed": false
   },
   "source": [
    "<h3>Exercice 6: histogramme</h3>\n",
    "<ul>\n",
    "<li>Simuler un échantillon de taille 10000 de loi normal de moyenne 6 et d'écart type 3</li>\n",
    "<li>Faire l'histogramme de cet échantillon en utilisant plt.hist avec l'option density=True et bins='sturges'.</li>\n",
    "<li>Tracer la courbe $f(x)=\\frac{1}{\\sqrt{2\\pi\\times9}}e^{-\\frac{1}{2}\\left(\\frac{x-6}{3}\\right)^{2}}$ sur le même graphique dans l'interval [-6,16].</li>    \n",
    "</ul>"
   ]
  },
  {
   "cell_type": "markdown",
   "metadata": {
    "collapsed": false
   },
   "source": [
    "# Nuage de points"
   ]
  },
  {
   "cell_type": "markdown",
   "metadata": {
    "collapsed": false
   },
   "source": [
    "On va simuler un nuage de point provenant d’un modèle linéaire Y = 0.5 + 2X. On trace le nuage de\n",
    "point à l’aide de la fonction plt.scatter. Ensuite on trace la droite d’équation Y = 0.5 + 2X sur le même\n",
    "grpahique."
   ]
  },
  {
   "cell_type": "code",
   "execution_count": 2,
   "metadata": {
    "collapsed": false
   },
   "outputs": [
   ],
   "source": [
    "import numpy as np\n",
    "np.random.seed(seed=1998)\n",
    "x = np.random.normal(loc=4,scale=1,size=100)\n",
    "e = np.random.normal(loc=0,scale=4,size=100)\n",
    "y = 0.5+2*x+e\n",
    "\n",
    "M = max(x)\n",
    "m = min(x)\n",
    "x_trend = np.arange(m,M+0.1,0.1)\n",
    "y_trend = 0.5+2*x_trend"
   ]
  },
  {
   "cell_type": "code",
   "execution_count": 3,
   "metadata": {
    "collapsed": false
   },
   "outputs": [
    {
     "data": {
      "image/png": "[encoded data removed]",
      "text/plain": [
       "<Figure size 432x288 with 1 Axes>"
      ]
     },
     "execution_count": 3,
     "metadata": {
      "image/png": {
       "height": 250,
       "width": 371
      },
      "needs_background": "light"
     },
     "output_type": "execute_result"
    }
   ],
   "source": [
    "#On trace le nuage de point\n",
    "import matplotlib.pyplot as plt\n",
    "plt.scatter(x,y,color=\"red\",alpha=0.6)\n",
    "plt.plot(x_trend,y_trend,color=\"blue\")\n",
    "plt.show()"
   ]
  },
  {
   "cell_type": "markdown",
   "metadata": {
    "collapsed": false
   },
   "source": [
    "<h3>Exercice 7</h3>\n",
    "Le poids des hommes suit une loi normal de paramètre de moyenne 77.4kg et d’écart type 12kg. Le poids\n",
    "des femmes suit une loi normal de paramètre de moyenne 62.4 et d’écart type 10.9. En France, il y a 32\n",
    "455 859 hommes pour 34 534 967 femmes au 1er janvier 2017. Une compagnie maritime organise en Corse\n",
    "des expéditions pouvant accueillir 100 personnes par bateau. Selon les normes de sécurité en vigueur, un\n",
    "bateau ne peut accueillir une charge dépassant les 7.2 tonnes. A l’aide d’une simulation, calculer le risque\n",
    "que cette normes ne soient pas respectées ? (On ferra l’hypothèse que les touristes sont adultes et voyagent\n",
    "sans bagage)"
   ]
  }
 ],
 "metadata": {
  "kernelspec": {
   "display_name": "Python 3 (system-wide)",
   "language": "python",
   "metadata": {
    "cocalc": {
     "description": "Python 3 programming language",
     "priority": 100,
     "url": "https://www.python.org/"
    }
   },
   "name": "python3"
  },
  "language_info": {
   "codemirror_mode": {
    "name": "ipython",
    "version": 3
   },
   "file_extension": ".py",
   "mimetype": "text/x-python",
   "name": "python",
   "nbconvert_exporter": "python",
   "pygments_lexer": "ipython3",
   "version": "3.6.9"
  }
 },
 "nbformat": 4,
 "nbformat_minor": 0
}