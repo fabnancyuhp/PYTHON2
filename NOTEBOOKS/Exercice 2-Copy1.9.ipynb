{
 "cells": [
  {
   "cell_type": "markdown",
   "metadata": {},
   "source": [
    "# Exercice 2.9"
   ]
  },
  {
   "cell_type": "markdown",
   "metadata": {},
   "source": [
    "Suite à des traveaux de modernisation sur la ligne ferrovière Paris-Marseille, la SNCF a souhaité étudier l'évolution de la satisfaction de ses clients. Pour ce faire, elle a notamment demandé à 20 voyageurs d'évaluer le temps de retard moyen (en minutes) avant ($T_{avant}$) et aprés ($T_{apres}$) l'exécution des travaux sur la voie. Les réponses obtenues sont synthétisées dans le tableau ci-dessous."
   ]
  },
  {
   "cell_type": "markdown",
   "metadata": {},
   "source": [
    "$$\\begin{array}{|c|c|c|c|c|c|c|c|c|c|c|c|c|c|c|} \n",
    "\\hline\n",
    "T_{avant} & 3 & 4 & 6 & 12 & 13 & 14 & 15 & 16 & 17 & 19 & 20 & 21 & 22\\\\\n",
    "\\hline\n",
    "Effectifs & 1 & 1 & 1 & 2 & 5 & 3 & 1 & 1 & 1 & 1 & 1 & 1 & 1\\\\\n",
    "\\hline\n",
    "\\end{array}\n",
    "$$<br><br>\n",
    "\n",
    "$$\\begin{array}{|c|c|c|c|c|c|c|c|}\n",
    "\\hline\n",
    "T_{apres} & 2 & 3 & 4 & 5 & 6 & 7 & 11\\\\\n",
    "\\hline\n",
    "Effectifs & 2 & 3 & 5 & 5 & 3 & 1 &1\\\\\n",
    "\\hline\n",
    "\\end{array}$$"
   ]
  },
  {
   "cell_type": "markdown",
   "metadata": {},
   "source": [
    "1. Pour chacune des 2 séries (avant ou après travaux) calculer la médiane, le premier quartile et troisième quartile.\n",
    "2. Pour chacune des 2 séries (avant ou aprés travaux) calculer les quantités nécessaires pour tracer les boites de distribution.\n",
    "3. Tracer maintenant à la même échelle et côte à côte les 2 boites de distribution.\n",
    "4. Commenter rapidement."
   ]
  },
  {
   "cell_type": "markdown",
   "metadata": {},
   "source": [
    "1/"
   ]
  },
  {
   "cell_type": "markdown",
   "metadata": {},
   "source": [
    "## $T_{avant}$\n",
    "La série de nombre triée est:\n",
    "\n",
    "$$\n",
    "\\begin{array}{cccccccccccccccccccc}\n",
    "\\hline\n",
    "x_{(1)} & x_{(2)} & x_{(3)} & x_{(4)} & x_{(5)} & x_{(6)} & x_{(7)} & x_{(8)} & x_{(9)} & x_{(10)} & x_{(11)} & x_{(12)} & x_{(13)} & x_{(14)} & x_{(15)} & x_{(16)} & x_{(17)} & x_{(18)} & x_{(19)} & x_{(20)}\\\\    \n",
    "3 & 4 & 6 & 12 & 12 & 13 & 13 & 13 & 13 & 13 & 14 & 14 & 14 & 15 & 16 & 17 & 19 & 20 & 21 & 22\\\\\n",
    "\\hline\n",
    "\\end{array}\n",
    "$$"
   ]
  },
  {
   "cell_type": "markdown",
   "metadata": {},
   "source": [
    "##### Premier quartile\n",
    "$n=20$ et $\\alpha=0.25$ donc $n\\alpha=20\\times 0.25=5\\in \\mathbb{N}^{*}$ donc $q_{1}=q_{0.25}=\\frac{x_{(n\\alpha)}+x_{(n\\alpha+1)}}{2}=\\frac{x_{(20\\times 0.25)}+x_{(20\\times 0.25+1)}}{2}=\\frac{x_{(5)}+x_{(6)}}{2}=\\frac{12+13}{2}=12.5$"
   ]
  },
  {
   "cell_type": "markdown",
   "metadata": {},
   "source": [
    "##### Deuxième quartile, c'est à dire la médiane\n",
    "$n=20$ et $\\alpha=0.5$ donc $n\\alpha=20\\times 0.5=10\\in \\mathbb{N}^{*}$ donc $q_{2}=q_{0.5}=\\frac{x_{(n\\alpha)}+x_{(n\\alpha+1)}}{2}=\\frac{x_{(20\\times 0.5)}+x_{(20\\times 0.5+1)}}{2}=\\frac{x_{(10)}+x_{(11)}}{2}=\\frac{13+14}{2}=13.5$"
   ]
  },
  {
   "cell_type": "markdown",
   "metadata": {},
   "source": [
    "##### Troisième quartile\n",
    "$n=20$ et $\\alpha=0.75$ donc $n\\alpha=20\\times 0.75=15\\in \\mathbb{N}^{*}$ donc $q_{3}=q_{0.75}=\\frac{x_{(n\\alpha)}+x_{(n\\alpha+1)}}{2}=\\frac{x_{(20\\times 0.75)}+x_{(20\\times 0.75+1)}}{2}=\\frac{x_{(15)}+x_{(16)}}{2}=\\frac{16+17}{2}=16.5$"
   ]
  },
  {
   "cell_type": "markdown",
   "metadata": {},
   "source": [
    "## $T_{apres}$"
   ]
  },
  {
   "cell_type": "markdown",
   "metadata": {},
   "source": [
    "La série de nombres triés est \n",
    "$$\\begin{array}{cccccccccccccccccccc}\n",
    "\\hline\n",
    "x_{(1)} & x_{(2)} & x_{(3)} & x_{(4)} & x_{(5)} & x_{(6)} & x_{(7)} & x_{(8)} & x_{(9)} & x_{(10)} & x_{(11)} & x_{(12)} & x_{(13)} & x_{(14)} & x_{(15)} & x_{(16)} & x_{(17)} & x_{(18)} & x_{(19)} & x_{(20)}\\\\\n",
    "2 & 2 & 3 & 3 & 3 & 4 & 4 & 4 &4 &4 & 5 & 5 & 5 & 5 &5 & 6 & 6 & 6 & 7 & 11\\\\\n",
    "\\hline\n",
    "\\end{array}\n",
    "$$"
   ]
  },
  {
   "cell_type": "markdown",
   "metadata": {},
   "source": [
    "##### Premier quartile\n",
    "$n=20$ et $\\alpha=0.25$ donc $n\\alpha=20\\times 0.25=5\\in \\mathbb{N}^{*}$ donc $q_{1}=q_{0.25}=\\frac{x_{(n\\alpha)}+x_{(n\\alpha+1)}}{2}=\\frac{x_{(20\\times 0.25)}+x_{(20\\times 0.25+1)}}{2}=\\frac{x_{(5)}+x_{(6)}}{2}=\\frac{3+4}{2}=3.5$"
   ]
  },
  {
   "cell_type": "markdown",
   "metadata": {},
   "source": [
    "##### Deuxième quartile, c'est à dire la médiane\n",
    "$n=20$ et $\\alpha=0.5$ donc $n\\alpha=20\\times 0.5=10\\in \\mathbb{N}^{*}$ donc $q_{2}=q_{0.5}=\\frac{x_{(n\\alpha)}+x_{(n\\alpha+1)}}{2}=\\frac{x_{(20\\times 0.5)}+x_{(20\\times 0.5+1)}}{2}=\\frac{x_{(10)}+x_{(11)}}{2}=\\frac{4+5}{2}=4.5$"
   ]
  },
  {
   "cell_type": "markdown",
   "metadata": {},
   "source": [
    "##### Troisième quartile\n",
    "$n=20$ et $\\alpha=0.75$ donc $n\\alpha=20\\times 0.75=15\\in \\mathbb{N}^{*}$ donc $q_{3}=q_{0.75}=\\frac{x_{(n\\alpha)}+x_{(n\\alpha+1)}}{2}=\\frac{x_{(20\\times 0.75)}+x_{(20\\times 0.75+1)}}{2}=\\frac{x_{(15)}+x_{(16)}}{2}=\\frac{5+6}{2}=5.5$"
   ]
  },
  {
   "cell_type": "markdown",
   "metadata": {},
   "source": [
    "2/ Les quantités nécessaires pour tracer les boîtes de distribution:"
   ]
  },
  {
   "cell_type": "markdown",
   "metadata": {},
   "source": [
    "## $T_{avant}$\n",
    "* la distance inter-quartiles: $IQ=q_{0.75}-q_{0.25}=q_{3}-q_{1}=16.5-12.5=4$\n",
    "* $a=q_{0.25}-1.5IQ=12.5-1.5\\times4=12.5-6=6.5$\n",
    "* $b=q_{0.75}+1.5IQ=16.5+1.5\\times 4=16.5+6=22.5$\n",
    "* $x_{a}=\\min\\{x_{i}|x_{i}\\ge a \\}=\\min\\{x_{i}|x_{i}\\ge 6.5 \\}=12$\n",
    "* $x_{b}=\\max\\{x_{i}|x_{i}\\le b \\}=\\max\\{x_{i}|x_{i}\\le 22.5 \\}=22$\n",
    "* les valeurs extrêmes : $VE=\\{x_{i}| x_{i} \\notin [x_{a},x_{b}]\\}=\\{x_{i}| x_{i} \\notin [12,22]\\}=\\{3, 4, 6\\}$"
   ]
  },
  {
   "cell_type": "markdown",
   "metadata": {},
   "source": [
    "## $T_{apres}$\n",
    "* la distance inter-quartiles: $IQ=q_{0.75}-q_{0.25}=q_{3}-q_{1}=5.5-3.5=2$\n",
    "* $a=q_{0.25}-1.5IQ=3.5-1.5\\times2=3.5-3=0.5$\n",
    "* $b=q_{0.75}+1.5IQ=5.5+1.5\\times 2=5.5+3=8.5$\n",
    "* $x_{a}=\\min\\{x_{i}|x_{i}\\ge a \\}=\\min\\{x_{i}|x_{i}\\ge 0.5 \\}=2$\n",
    "* $x_{b}=\\max\\{x_{i}|x_{i}\\le b \\}=\\max\\{x_{i}|x_{i}\\le 8.5 \\}=7$\n",
    "* les valeurs extrêmes : $VE=\\{x_{i}| x_{i} \\notin [x_{a},x_{b}]\\}=\\{x_{i}| x_{i} \\notin [2,7]\\}=\\{11\\}$"
   ]
  },
  {
   "cell_type": "code",
   "execution_count": 70,
   "metadata": {},
   "outputs": [
    {
     "data": {
      "image/png": "[encoded data removed]",
      "text/plain": [
       "<Figure size 432x288 with 1 Axes>"
      ]
     },
     "metadata": {
      "needs_background": "light"
     },
     "output_type": "display_data"
    }
   ],
   "source": []
  },
  {
   "cell_type": "markdown",
   "metadata": {},
   "source": [
    "4/Aprés réparation la boite de distribution à une médiane plus petite. Aprés réparation on constate que la boite de distribution est assez homogène et symétrique."
   ]
  }
 ],
 "metadata": {
  "kernelspec": {
   "display_name": "Python 3",
   "language": "python",
   "name": "python3"
  },
  "language_info": {
   "codemirror_mode": {
    "name": "ipython",
    "version": 3
   },
   "file_extension": ".py",
   "mimetype": "text/x-python",
   "name": "python",
   "nbconvert_exporter": "python",
   "pygments_lexer": "ipython3",
   "version": "3.7.1"
  }
 },
 "nbformat": 4,
 "nbformat_minor": 2
}
