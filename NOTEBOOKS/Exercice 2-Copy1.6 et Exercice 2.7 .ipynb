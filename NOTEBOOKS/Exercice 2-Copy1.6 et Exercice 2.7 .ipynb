{
 "cells": [
  {
   "cell_type": "markdown",
   "metadata": {},
   "source": [
    "Lire les pages 18 à 27 avant de faire ces exercices."
   ]
  },
  {
   "cell_type": "markdown",
   "metadata": {},
   "source": [
    "# Quelques formules"
   ]
  },
  {
   "cell_type": "markdown",
   "metadata": {},
   "source": [
    "On se donne une série de nombres $x$ de taille n que l'on note $x_{1},x_{2},\\dots,x_{n}$. On note:\n",
    "* moyenne: $\\overline{x}=\\frac{\\sum_{i=1}^{n}x_{i}}{n}$\n",
    "* $\\overline{x^{2}}=\\frac{\\sum_{i}^{n}x_{i}^{2}}{n}$\n",
    "* variance: $s^{2}_{x}=\\frac{\\sum_{i=1}^{n}(x_{i}-\\overline{x})^{2}}{n}=\\overline{x^{2}}-(\\overline{x})^{2}$\n",
    "* Ecart type: $s_{x}=\\sqrt{s_{x}^{2}}$"
   ]
  },
  {
   "cell_type": "markdown",
   "metadata": {},
   "source": [
    "La série $x_{1},x_{2},\\dots,x_{n}$ triée par ordre croissant se note $x_{(1)},x_{(2)},\\dots,x_{(n)}$. Alors l'étendue d'une série est la différence entre la plus petite valeur et la plus grande valeur:\n",
    "* étandue: $e=x_{(n)}-x_{(1)}$"
   ]
  },
  {
   "cell_type": "markdown",
   "metadata": {},
   "source": [
    "* Si la taille n est impaire la médiane est: $m_{e}=x_{\\left(\\frac{n+1}{2}\\right)}$"
   ]
  },
  {
   "cell_type": "markdown",
   "metadata": {},
   "source": [
    "* Si la taille n est paire la médiane est :$m_{e}=\\frac{x_{\\left(\\frac{n}{2}\\right)}+ x_{\\left(\\frac{n}{2}+1\\right)}}{2}$"
   ]
  },
  {
   "cell_type": "markdown",
   "metadata": {},
   "source": [
    "A partir de la série $x$ de taille n, $x_{1},x_{2},\\dots,x_{n}$ on peut créer une nouvelle série $y=ax+b$ de taille n:\n",
    "$$y_{1}=ax_{1}+b,y_{2}=ax_{2}+b,\\dots,y_{n}=ax_{n}+b $$\n",
    "Alors on a:\n",
    "* $\\overline{ax+b}=a\\overline{x}+b$\n",
    "* $s_{ax+b}^{2}=a^{2}s_{x}^{2}$\n",
    "* $s_{ax+b}=|a|s_{x}$"
   ]
  },
  {
   "cell_type": "markdown",
   "metadata": {},
   "source": [
    "# Exercice 2.6\n",
    "Soit $x_{1},x_{2},\\dots,x_{n}$ avec $n=100$ une série de réels. On sait que la moyenne et la variance empiriques valent $\\overline{x}=5$ et $s_{x}^{2}=16$.\n",
    "1. On définit la nouvelle série $y_{1},\\dots,y_{n}$ ou $y_{i}=-2x_{i}+7$ pour tout $i=1,\\dots,n$ calculer la moyenne empirique $\\overline{y}$.\n",
    "2. On définit la nouvelle série $z_{1},\\dots,z_{n}$ ou $z_{i}=-3x_{i}-7$ pour tout $i=1,\\dots,n$ calculer l'écart type empirique $s_{z}$."
   ]
  },
  {
   "cell_type": "markdown",
   "metadata": {},
   "source": [
    "1/ On sait que la série $y=-2x+7$ de taille n=100 s'écrit $y_{1}=-2x_{1}+7,\\dots,y_{n}=-2x_{n}+7$. On sait que $\\overline{ax+b}=a\\overline{x}+b$ donc<br><br>\n",
    "$$\\overline{y}=\\overline{-2x+7}=-2\\overline{x}+7=-2\\times5+7=-3$$"
   ]
  },
  {
   "cell_type": "markdown",
   "metadata": {},
   "source": [
    "2/Ici, la série $z=-3x-7$ de taille n=100 est de la forme $z_{1}=-3x_{1}-7,\\dots,z_{n}=-3x_{n}-7$. On a $s_{x}=\\sqrt{s_{x}^{2}}$. On sait que $s_{ax+b}=|a|s_{x}$ donc<br><br>\n",
    "$$s_{-3x-7}=|-3|s_{x}=3s_{x}=3\\times\\sqrt{s_{x}^{2}}=3\\times\\sqrt{16}=12$$"
   ]
  },
  {
   "cell_type": "markdown",
   "metadata": {},
   "source": [
    "# Exercice 2.7\n",
    "Lors d'une évaluation, un enseignant attribue les notes suivantes: 8, 9, 11, 7, 12, 6, 9, 8, 5, 7, 10, 10\n",
    "1. Tracer la fonction de répartition empirique pour cette série de données\n",
    "2. Calculer le mode, la moyenne, la médiane, l'étendue et l'écart type.\n",
    "3. Se trouvant a posteriori trop sévère au regard de la moyenne obtenue, l'enseignant rajoute 1.5 points à tout le monde. Donner sans calcul, les nouveaux mode, moyenne, médiane, étandue et écart type.\n",
    "4. Comment devrait-il transformer ses données pour obtenir un écart type exactement égal à 2?\n",
    "5. L'enseignant s'aperçoit qu'il a oublié une copie qui obtient finalement 18. Recalculer le mode, la moyenne, la médiane, l'étendue et l'écart type. Qu'en pensez-vous? Aurait-il rajouté 1.5 points à tout le monde s'il avait eu dès le début cette nouvelle copie?"
   ]
  },
  {
   "cell_type": "markdown",
   "metadata": {},
   "source": [
    "1/ On doit faire le tableau des fréquences. Cette série x 8,9,11,7,12,6,9,8,5,7,10,10 est de taille 12:\n",
    "\n",
    "$$\\begin{array}{|c|c|c|c|c|c|c|c|c|}\n",
    "\\hline\n",
    "\\mbox{modalité } m_{i} & 5 &  6&  7&  8&  9& 10& 11& 12\\\\\n",
    "\\hline\n",
    "\\mbox{effectifs } n_{i} & 1 & 1 & 2 & 2 & 2 & 2 & 1 & 1\\\\\n",
    "\\hline\n",
    "\\mbox{effectifs cummulés } N_{j} & 1 &  2 & 4&  6&  8& 10& 11& 12\\\\\n",
    "\\hline\n",
    "\\mbox{fréquence cummulés } F_{j} & 1/12&  2/12&  4/12&  6/12&  8/12& 10/12& 11/12& 12/12=1\\\\ \n",
    "\\hline\n",
    "\\end{array}\n",
    "$$\n",
    "Cette série est quantitative discrète. La fréquence cummulé vaut 0 pour toutes valeurs inférieurs à 5. La fréquence cummulé vaut 1 pour toutes valeurs supérieurs à 12."
   ]
  },
  {
   "cell_type": "code",
   "execution_count": 40,
   "metadata": {},
   "outputs": [
    {
     "data": {
      "image/png": "[encoded data removed]",
      "text/plain": [
       "<Figure size 432x288 with 1 Axes>"
      ]
     },
     "metadata": {
      "needs_background": "light"
     },
     "output_type": "display_data"
    }
   ],
   "source": []
  },
  {
   "cell_type": "markdown",
   "metadata": {},
   "source": [
    "2/ Le mode empirique est la modalité qui apparait le plus fréquemment. Ici nous avons 4 modes $\\{7,8,9,10\\}$ dont les fréquences sont 2."
   ]
  },
  {
   "cell_type": "markdown",
   "metadata": {},
   "source": [
    "La moyenne empirique de la série est: $\\overline{x}=\\frac{\\sum_{i=1}^{12}x_{i}}{12}=\\frac{8+9+11+7+12+6+9+8+5+7+10+10}{12}=\\frac{102}{12}=8.5$"
   ]
  },
  {
   "cell_type": "markdown",
   "metadata": {},
   "source": [
    "On calule $\\overline{x^{2}}=\\frac{\\sum_{i=1}^{12}x_{i}^{2}}{12}=\\frac{8^{2}+9^{2}+11^{2}+7^{2}+12^{2}+6^{2}+9^{2}+8^{2}+5^{2}+7^{2}+10^{2}+10^{2}}{12}=\\frac{914}{12}\\simeq 76.17$"
   ]
  },
  {
   "cell_type": "markdown",
   "metadata": {},
   "source": [
    "La variance empirique est :$s_{x}^{2}=\\overline{x^{2}}-(\\overline{x})^{2}=\\frac{914}{12}-\\left(\\frac{102}{12}\\right)^{2}=\\frac{914\\times 12 - 102\\times 102}{12\\times 12}=\\frac{564}{144}=\\frac{47}{12}$"
   ]
  },
  {
   "cell_type": "markdown",
   "metadata": {},
   "source": [
    "L'écart type est : $s_{x}=\\sqrt{s_{x}^{2}}=\\sqrt{\\frac{47}{12}}\\simeq 1.979057$"
   ]
  },
  {
   "cell_type": "markdown",
   "metadata": {},
   "source": [
    "Avant de calculer la médiane et l'étendue on doit trier la série par ordre croissant:<br><br>\n",
    "$$\\begin{array}{cccccccccccccccc}\n",
    "\\hline \n",
    "x_{(1)} & x_{(2)} & x_{(3)} & x_{(4)} & x_{(5)} & x_{(6)} & x_{(7)} & x_{(8)} & x_{(9)} & x_{(10)} & x_{(11)} & x_{(12)} \\\\\n",
    "5 &  6 &  7 &  7 &  8&  8&  9&  9& 10& 10& 11& 12\\\\\n",
    "\\hline `\n",
    "\\end{array}$$"
   ]
  },
  {
   "cell_type": "markdown",
   "metadata": {},
   "source": [
    "l'étendu est : $e=x_{(n)}-x_{(1)}=x_{(12)}-x_{(1)}=12-5=7$"
   ]
  },
  {
   "cell_type": "markdown",
   "metadata": {},
   "source": [
    "On a $n=12$ et $\\alpha=0.5$ donc $n\\alpha=12\\times 0.5=6\\in \\mathbb{N}^{*}$, donc la médiane est (lire page 23):\n",
    "$$m_{e}=\\frac{x_{\\left(\\frac{n}{2}\\right)}+ x_{\\left(\\frac{n}{2}+1\\right)}}{2}=\\frac{x_{(6)}+x_{(7)}}{2}=\\frac{8+9}{2}=8.5 $$"
   ]
  },
  {
   "cell_type": "markdown",
   "metadata": {},
   "source": [
    "3/L'enseignant ajoute 1.5 points à tout le monde. On a donc une nouvelle série $y=x+1.5$."
   ]
  },
  {
   "cell_type": "markdown",
   "metadata": {},
   "source": [
    "Les nouveaux modes sont $\\{7+1.5, 8+1.5, 9+1.5, 10+1.5 \\}=\\{8.5, 9.5, 10.5, 11.5 \\}$"
   ]
  },
  {
   "cell_type": "markdown",
   "metadata": {},
   "source": [
    "La moyenne de $y$ est : $\\overline{y}=\\overline{x+1.5}=\\overline{x}+1.5=8.5+1.5=10$"
   ]
  },
  {
   "cell_type": "markdown",
   "metadata": {},
   "source": [
    "L'écart type de $y$ est $s_{y}=s_{x+1.5}=s_{x}=\\sqrt{\\frac{47}{12}}$"
   ]
  },
  {
   "cell_type": "markdown",
   "metadata": {},
   "source": [
    "L'étendue est $e=y_{(12)}-y_{(1)}=(x_{(12)}+1.5)-(x_{(1)}+1.5)=x_{(12)}-x_{(1)}=12-5=7$"
   ]
  },
  {
   "cell_type": "markdown",
   "metadata": {},
   "source": [
    "On a $n=12$ et $\\alpha=0.5$ donc $n\\alpha=12\\times 0.5=6\\in \\mathbb{N}^{*}$, donc la médiane est:\n",
    "$$m_{e}=\\frac{y_{\\left(\\frac{n}{2}\\right)}+ y_{\\left(\\frac{n}{2}+1\\right)}}{2}=\\frac{y_{(6)}+y_{(7)}}{2}=\\frac{x_{(6)}+1.5+x_{(7)}+1.5}{2}=\\frac{8+1.5+9+1.5}{2}=10 $$"
   ]
  },
  {
   "cell_type": "markdown",
   "metadata": {},
   "source": [
    "4/ On doit multiplier les notes par un facteur a. On obtient alors une série de nombre $z=ax$. On veut avoir $s_{z}=2$. On a \n",
    "$$\\begin{eqnarray*}\n",
    "s_{z}&=&s_{ax}=|a|s_{x}=|a|\\sqrt{\\frac{47}{12}}=2\\\\\n",
    "     &\\Leftrightarrow&\\\\\n",
    "    a&=&\\frac{2}{\\sqrt{\\frac{47}{12}}}=\\sqrt{\\frac{4\\times 12}{47}}=\\sqrt{\\frac{48}{47}}\n",
    "\\end{eqnarray*}$$"
   ]
  },
  {
   "cell_type": "markdown",
   "metadata": {},
   "source": [
    "5/On a la nouvelle série x de note 8, 9, 11, 7, 12, 6, 9, 8, 5, 7, 10, 10, 18 de taille n=13.<br><br>\n",
    "$$\\begin{array}{|c|c|c|c|c|c|c|c|c|c|}\n",
    "\\hline\n",
    "\\mbox{modalité } m_{i} & 5 &  6&  7&  8&  9& 10& 11& 12 & 18\\\\\n",
    "\\hline\n",
    "\\mbox{effectifs } n_{i} & 1 & 1 & 2 & 2 & 2 & 2 & 1 & 1 & 1\\\\\n",
    "\\hline\n",
    "\\end{array}\n",
    "$$"
   ]
  },
  {
   "cell_type": "markdown",
   "metadata": {},
   "source": [
    "Les modes sont $\\{7,8,9,10\\}$."
   ]
  },
  {
   "cell_type": "markdown",
   "metadata": {},
   "source": [
    "La moyenne est de $\\overline{x}=\\frac{8+9+11+7+12+6+9+8+5+7+10+10+18}{13}=\\frac{120}{13}\\simeq 9.23$"
   ]
  },
  {
   "cell_type": "markdown",
   "metadata": {},
   "source": [
    "On a $\\overline{x^{2}}=\\frac{8^{2}+9^{2}+11^{2}+7^{2}+12^{2}+6^{2}+9^{2}+8^{2}+5^{2}+7^{2}+10^{2}+10^{2}+18^{2}}{13}=\\frac{1238}{13}\\simeq 95.23$"
   ]
  },
  {
   "cell_type": "markdown",
   "metadata": {},
   "source": [
    "la variance empirique est $s_{x}^{2}=\\overline{x^{2}}-(\\overline{x})^{2}=\\frac{1238}{13}-\\left(\\frac{120}{13}\\right)^{2}=\\frac{1238\\times13-120\\times120}{13\\times 13}=\\frac{1694}{169}$"
   ]
  },
  {
   "cell_type": "markdown",
   "metadata": {},
   "source": [
    "L'écart type est $s_{x}=\\sqrt{s_{x}^{2}}=\\sqrt{\\frac{1694}{169}}\\simeq 3.166$"
   ]
  },
  {
   "cell_type": "markdown",
   "metadata": {},
   "source": [
    "Avant de calculer la médiane et l'étendue on doit trier la série par ordre croissant:<br><br>\n",
    "$$\\begin{array}{ccccccccccccccccc}\n",
    "\\hline \n",
    "x_{(1)} & x_{(2)} & x_{(3)} & x_{(4)} & x_{(5)} & x_{(6)} & x_{(7)} & x_{(8)} & x_{(9)} & x_{(10)} & x_{(11)} & x_{(12)} & x_{(13)}\\\\\n",
    "5 &  6 &  7 &  7 &  8&  8&  9&  9& 10& 10& 11& 12 & 18\\\\\n",
    "\\hline `\n",
    "\\end{array}$$"
   ]
  },
  {
   "cell_type": "markdown",
   "metadata": {},
   "source": [
    "l'étendu est $e=x_{(13)}-x_{(1)}=18-5=13$"
   ]
  },
  {
   "cell_type": "markdown",
   "metadata": {},
   "source": [
    "Cette série à une taille n=13 impaire donc la médiane:\n",
    "    $$m_{e}=x_{\\left(\\frac{n+1}{2} \\right)}=x_{\\left(\\frac{14}{2}\\right)}=x_{(7)}=9 $$"
   ]
  }
 ],
 "metadata": {
  "kernelspec": {
   "display_name": "Python 3",
   "language": "python",
   "name": "python3"
  },
  "language_info": {
   "codemirror_mode": {
    "name": "ipython",
    "version": 3
   },
   "file_extension": ".py",
   "mimetype": "text/x-python",
   "name": "python",
   "nbconvert_exporter": "python",
   "pygments_lexer": "ipython3",
   "version": "3.7.1"
  }
 },
 "nbformat": 4,
 "nbformat_minor": 2
}
