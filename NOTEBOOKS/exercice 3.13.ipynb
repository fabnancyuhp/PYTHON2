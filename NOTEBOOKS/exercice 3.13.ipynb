{
 "cells": [
  {
   "cell_type": "markdown",
   "metadata": {},
   "source": [
    "Avant de faire cette exercice lisez attentivement la page 63,64 et 68,69 du cours."
   ]
  },
  {
   "cell_type": "markdown",
   "metadata": {},
   "source": [
    "# Exercice 3.13\n",
    "A) La grande marque de cosmétique Belle et nature s'inteéresse au marché de la crème de nuit pour homme, pour cela elle s'adresse à la socièté Homme et bien être pour faire l'étude. Cette dernière dispose d'un échantillon de 60 hommes dont les comportements sont indépendants. Cinq fois sur cent, un homme utilise une crème de nuit."
   ]
  },
  {
   "cell_type": "markdown",
   "metadata": {},
   "source": [
    "* 1) Quelle est la probabilité qu'au moins 10 hommes parmi les 60 utilisent une crème de nuit?\n",
    "* 2) Quelle est la probabilité qu'exactement 10 hommes parmi 60 utilisent une crème de nuit?"
   ]
  },
  {
   "cell_type": "markdown",
   "metadata": {},
   "source": [
    "B) La grand marque de cosmétique Belle et nature s'intéresse également au marché du déodorant pour homme, pour cela elle s'adresse à nouveau à la société homme et bien être pour faire l'étude. Cette dernière dispose à présent d'un échantillon de 200 hommes dont les comportements sont considérés indépandants. Vingt fois sur cent, un homme utilise du déodorant."
   ]
  },
  {
   "cell_type": "markdown",
   "metadata": {},
   "source": [
    "* 1) Quelle est la probabilité qu'au plus 50 hommes parmi les 200 utilisent du déodorant?\n",
    "* 2) Quelle est la probabilité qu'exactement 50 hommes parmi les 200 utilisent du déodorant?"
   ]
  },
  {
   "cell_type": "markdown",
   "metadata": {},
   "source": [
    "## Réponse"
   ]
  },
  {
   "cell_type": "markdown",
   "metadata": {},
   "source": [
    "A)"
   ]
  },
  {
   "cell_type": "markdown",
   "metadata": {},
   "source": [
    "1) Soit X la variable aléatoire du nombre d'hommes utilisant une crème de nuit. Il y a n=60 hommes et la probabilité qu'un homme utilise une crème est p=5/100. Donc X suit $\\mathcal{B}(n=60,p=5/100)$ une loi binomiale de paramètre n=60 et p=5/100. Ici $n=60\\geq 50$ et $p=5/100<0.1$ donc d'aprés le paragraphe 7.2 on peut approximer $X$ par une loi de poisson de paramètre $\\lambda=np=60\\times 5/100=3$, $(X\\approx \\mathcal{P}(3))$."
   ]
  },
  {
   "cell_type": "markdown",
   "metadata": {},
   "source": [
    "On a donc <br>\n",
    "$\\begin{eqnarray*}\n",
    "P(X\\geq 10)&=&1-P(X<10)=1-P(X\\leq 9)\\\\\n",
    "           &\\simeq&1-P(X\\leq 9) \\mbox{ ou $X\\approx \\mathcal{P}(3)$}\\\\\n",
    "           &=&1-0.9989=0.001 \\mbox{  table page 8, m=3.0 et k=9}\n",
    "\\end{eqnarray*}$"
   ]
  },
  {
   "cell_type": "markdown",
   "metadata": {},
   "source": [
    "2) On utilise l'approximation de X par une loi de poisson de paramètre $\\lambda=3,X\\approx \\mathcal{P}(3)$. On a alors <br>\n",
    "$\\begin{eqnarray*}\n",
    "P(X=10)&=&P(X\\leq 10)-P(X\\leq 9)\\\\\n",
    "       &\\simeq&P(X\\leq 10)-P(X\\leq 9) \\mbox{ ou $X\\approx \\mathcal{P}(3)$}\\\\\n",
    "       &=&0.9997-0.9989 = 0.0008\n",
    "\\end{eqnarray*}$"
   ]
  },
  {
   "cell_type": "markdown",
   "metadata": {},
   "source": [
    "B)"
   ]
  },
  {
   "cell_type": "markdown",
   "metadata": {},
   "source": [
    "1) Soit X la variable aléatoire du nombre d'hommes utilisant un déodorant. On a n=200 hommes, la probabilité qu'un homme utilise du déodorant est 20/100=1/5. Donc X suit $\\mathcal{B}(n=200,p=1/5)$ une loi binomiale de paramètre n=200 et p=1/5.\n",
    "Ici $n=200\\geq50$ et $npq=200\\times1/5\\times4/5=32>18$ donc d'aprés le paragraphe 7.3 on peut approximer $X$ par une loi Normale de paramètres $m=np=40$ et $\\sigma=\\sqrt{npq}=\\sqrt{200\\times1/5\\times4/5}=\\sqrt{32}\\simeq 5.66$, $X\\approx \\mathcal{N}(40,5.66)$.<br>\n",
    "On a $U=\\frac{X-40}{5.66}\\approx \\mathcal{N}(0,1)$."
   ]
  },
  {
   "cell_type": "markdown",
   "metadata": {},
   "source": [
    "On a:<br>\n",
    "$\\begin{eqnarray*}\n",
    "P(X\\leq 50) &=&P\\left(\\frac{X-40}{5.66}\\leq \\frac{50-40}{5.66}\\right)=P\\left(\\frac{X-40}{5.66}\\leq 1.77\\right)\\\\\n",
    "            &\\simeq&P(U \\leq 1.77) \\mbox{ ou $U\\approx \\mathcal{N}(0,1)$}\\\\\n",
    "            &=&0.9616 \\mbox{  table page 11, ligne $u=1.7$ et col 0.07}\n",
    "\\end{eqnarray*}$"
   ]
  },
  {
   "cell_type": "markdown",
   "metadata": {},
   "source": [
    "2) Avant de lire la réponse lisez attentivement le parapgraphe 7.4 page 69. On va dans cette question utilisez la corection de continuité."
   ]
  },
  {
   "cell_type": "markdown",
   "metadata": {},
   "source": [
    "On sait que $X\\approx \\mathcal{N}(40,5.66)$. Or $X$ est une loi discrète alors que $\\mathcal{N}(40,5.66)$ est une loi continue. Alors pour calculer $P(X=50)$ on va appliquer une correction de continuité. Cette correction utilise le fait que $P(X=50)=P(50-1/2<X<50+1/2)=P(49.5<X<50.5)$."
   ]
  },
  {
   "cell_type": "markdown",
   "metadata": {},
   "source": [
    "On a vu à la question précédante que $U=\\frac{X-40}{5.66}\\approx \\mathcal{N}(0,1)$. On a:<br>\n",
    "$\\begin{eqnarray*}\n",
    "P(X=50)&=&P(50-1/2<X<50+1/2)=P(49.5<X<50.5)\\\\\n",
    "       &=&P\\left(\\frac{49.5-40}{5.66}<\\frac{X-40}{5.66}<\\frac{50.5-40}{5.66}\\right)=P\\left(1.68<U<1.86\\right)\\\\\n",
    "       &\\simeq& P\\left(1.68<U<1.86\\right) \\mbox{ ou $U\\approx \\mathcal{N}(0,1)$}\\\\\n",
    "       &=&P(U<1.86)-P(U\\leq 1.68)=0.9686-0.9535=0.015 \\mbox{ p 11, ligne 1.8 et col 0.06, ligne 1.6 et col 0.08}\n",
    "\\end{eqnarray*}$\n"
   ]
  }
 ],
 "metadata": {
  "kernelspec": {
   "display_name": "Python 3",
   "language": "python",
   "name": "python3"
  },
  "language_info": {
   "codemirror_mode": {
    "name": "ipython",
    "version": 3
   },
   "file_extension": ".py",
   "mimetype": "text/x-python",
   "name": "python",
   "nbconvert_exporter": "python",
   "pygments_lexer": "ipython3",
   "version": "3.7.1"
  }
 },
 "nbformat": 4,
 "nbformat_minor": 2
}
