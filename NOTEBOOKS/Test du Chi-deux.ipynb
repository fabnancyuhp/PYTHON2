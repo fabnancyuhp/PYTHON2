{
 "cells": [
  {
   "cell_type": "markdown",
   "metadata": {},
   "source": [
    "Avant de faire ces exercices, il faut lire les pages 41 à 49."
   ]
  },
  {
   "cell_type": "markdown",
   "metadata": {},
   "source": [
    "# Exercice 3.1"
   ]
  },
  {
   "cell_type": "markdown",
   "metadata": {},
   "source": [
    "On a étudié la couleur des yeux et des cheveux de 592 étudiants en statistiques de l'université du Delaware (Snee 1974). La table de contingence est la suivante:\n",
    "$$\\begin{array}{|c|cccc|}\n",
    "\\hline\n",
    " & Marron & Bleu & Hazel & Vert\\\\\n",
    " \\hline\n",
    "Brun & 68 & 20 & 15 & 5\\\\\n",
    "Chatain & 119 & 84 & 54 & 29\\\\\n",
    "Roux & 26 & 17 & 14 & 14\\\\\n",
    "Blond & 7 & 94 & 10 & 16\\\\\n",
    "\\hline\n",
    "\\end{array}\n",
    "$$\n",
    "1. Donner les modalités prises par les 2 variables.\n",
    "2. Donner les distributions empiriques marginales.\n",
    "3. Donner la distribution conditionnelle de la couleur des cheveux sachant que les yeux sont bleux.\n",
    "4. Les deux variables sont-elles indépendantes au seuil 5\\%, 10\\%?"
   ]
  },
  {
   "cell_type": "markdown",
   "metadata": {},
   "source": [
    "1. On pose X=couleur des yeux et Y=couleur des cheveux:<br>\n",
    "   * les modalités de X=couleur des yeux: Marron, Bleu, Hazel, Vert\n",
    "   * les modalités de Y=couleur des cheveux: Brun, Chatain, Roux, Blond "
   ]
  },
  {
   "cell_type": "markdown",
   "metadata": {},
   "source": [
    "2. Les distributions empiriques marginales:<br>\n",
    "On a le tableau suivant:\n",
    "$$\\begin{array}{|c|cccc|c|}\n",
    "\\hline\n",
    " & Marron & Bleu & Hazel & Vert & Total\\\\\n",
    " \\hline\n",
    "Brun & 68 & 20 & 15 & 5 & 108\\\\\n",
    "Chatain & 119 & 84 & 54 & 29 & 286\\\\\n",
    "Roux & 26 & 17 & 14 & 14 & 71\\\\\n",
    "Blond & 7 & 94 & 10 & 16 & 127\\\\\n",
    "\\hline\n",
    "Total & 220 & 215 & 93 &  64 & 592\\\\\n",
    "\\hline\n",
    "\\end{array}\n",
    "$$"
   ]
  },
  {
   "cell_type": "markdown",
   "metadata": {},
   "source": [
    "Pour la distribution marginale de X=couleur des yeux:\n",
    "$$\\begin{array}{|c|cccc|c|} \n",
    "\\hline\n",
    "\\mbox{Modalité de X} & Marron & Bleu & Hazel & Vert & Total\\\\\n",
    "\\hline\n",
    "\\mbox{Effectifs marginaux} & 220 & 215 & 93 & 64 & 592\\\\\n",
    "\\hline \\hline\n",
    "\\mbox{Fréquence marginale} & 220/592 & 215/592 & 93/592 & 64/592 & 1\\\\\n",
    "\\hline\n",
    "\\end{array}$$"
   ]
  },
  {
   "cell_type": "markdown",
   "metadata": {},
   "source": [
    "Pour la distribution marginale de Y=couleur des cheveux:\n",
    "$$\\begin{array}{|c|cccc|c|} \n",
    "\\hline\n",
    "\\mbox{Modalité de Y} & Brun & Chatain & Roux & Blond & Total\\\\\n",
    "\\hline\n",
    "\\mbox{Effectifs marginaux} & 108 & 286 & 71 & 127 & 592\\\\\n",
    "\\hline \\hline\n",
    "\\mbox{Fréquence marginale} & 108/592 & 286/592 & 71/592 & 127/592 & 1\\\\\n",
    "\\hline\n",
    "\\end{array}$$    "
   ]
  },
  {
   "cell_type": "markdown",
   "metadata": {},
   "source": [
    "3. Donner la distribution conditionnelle de la couleur des cheveux sachant que les yeux sont bleux\n",
    "$$\\begin{array}{|c|cccc|c|} \n",
    "\\hline\n",
    "\\mbox{Modalité de Y} & Brun & Chatain & Roux & Blond & Total\\\\\n",
    "\\hline\n",
    "\\mbox{Effectifs (Y=couleur,X=Bleu)} & 20 & 84 & 17 & 94 & 215\\\\\n",
    "\\hline \\hline\n",
    "\\mbox{Fréquence conditionnelle (Y=couleur|X=Bleu)} & 20/215 & 84/215 & 17/215 & 94/215 & 1\\\\\n",
    "\\hline\n",
    "\\end{array}$$   "
   ]
  },
  {
   "cell_type": "markdown",
   "metadata": {},
   "source": [
    "4. On a le tableau de contingence:\n",
    "$$\\begin{array}{|c|cccc|c|}\n",
    "\\hline\n",
    " & Marron & Bleu & Hazel & Vert & Total\\\\\n",
    " \\hline\n",
    "Brun & 68 & 20 & 15 & 5 & 108\\\\\n",
    "Chatain & 119 & 84 & 54 & 29 & 286\\\\\n",
    "Roux & 26 & 17 & 14 & 14 & 71\\\\\n",
    "Blond & 7 & 94 & 10 & 16 & 127\\\\\n",
    "\\hline\n",
    "Total & 220 & 215 & 93 &  64 & 592\\\\\n",
    "\\hline\n",
    "\\end{array}\n",
    "$$"
   ]
  },
  {
   "cell_type": "markdown",
   "metadata": {},
   "source": [
    "On a<br>\n",
    "$\\begin{eqnarray}\n",
    "n_{13}&=&15, n_{32}=17, n_{43}=10\\\\\n",
    "n_{1\\bullet}&=&108, n_{2\\bullet}=286, n_{3\\bullet}=71, n_{4\\bullet}=127\\\\\n",
    "n_{\\bullet 1}&=&220, n_{\\bullet 2}=215, n_{\\bullet 3}=93, n_{\\bullet 4}=64, n=\\sum_{j=1}^{4}\\sum_{k=1}^{4}n_{jk}=592\n",
    "\\end{eqnarray}$"
   ]
  },
  {
   "cell_type": "markdown",
   "metadata": {},
   "source": [
    "On va calculer la statistqiue du $\\chi^{2}$:\n",
    "$$D_{\\chi^{2}}=n\\left(\\left[\\sum_{j=1}^{4}\\sum_{k=1}^{4}\\frac{n_{jk}^{2}}{n_{j\\bullet}n_{\\bullet k}}   \\right]-1 \\right)$$ \n",
    "ou $n_{j\\bullet}=\\sum_{k=1}^{4}n_{jk}$ et $n_{\\bullet k}=\\sum_{j=1}^{4}n_{jk}$."
   ]
  },
  {
   "cell_type": "markdown",
   "metadata": {},
   "source": [
    "$$\\begin{eqnarray*}\n",
    "\\sum_{j=1}^{4}\\sum_{k=1}^{4}\\frac{n_{jk}^{2}}{n_{j\\bullet}n_{\\bullet k}}&=&(68^{2}/220+20^{2}/215 +15^{2}/93+5^{2}/64)/108\\\\\n",
    "                            &+&(119^{2}/220+84^{2}/215+54^{2}/93+29^{2}/64)/289\\\\\n",
    "                            &+&(26^{2}/220+17^{2}/215+14^{2}/93+14^{2}/64)/71\\\\\n",
    "                            &+&(7^{2}/220+94^{2}/215+10^{2}/93+16^{2}/64)/127\\\\\n",
    "                            &\\simeq& 1.2335977 \\mbox{ donc}\\\\\n",
    "D_{\\chi^{2}}&=&592\\left(\\left[\\sum_{j=1}^{4}\\sum_{k=1}^{4}\\frac{n_{jk}^{2}}{n_{j\\bullet}n_{\\bullet k}}   \\right]-1 \\right)=592\\times(1.2335977-1)\\simeq 138.2898                      \n",
    "\\end{eqnarray*}$$"
   ]
  },
  {
   "cell_type": "markdown",
   "metadata": {},
   "source": [
    "Dans le tableau de contingence on J=4 modalités de couleur de cheveux et K=4 modalités de couleur des yeux. <br>\n",
    "Donc le nombre de degrés de liberté est\n",
    "d = (J-1)(K-1)=(4-1)(4-1)=9"
   ]
  },
  {
   "cell_type": "markdown",
   "metadata": {},
   "source": [
    "Au seuil $\\alpha= 5\\%$ on doit comparer $D_{\\chi^{2}}$ au quantile $1-\\alpha=1-0.05=0.95$ d'une loi du Chi_deux à 9 degrés de liberté (page 14 table ligne v=9 et colonne 0.95):\n",
    "$$ q_{0.95}^{\\chi^{2}_{9}}=16.919$$\n",
    "Comme $D_{\\chi^{2}}=138.2898>q_{0.95}^{\\chi^{2}_{9}}=16.919$ les variables ne sont pas indépendantes au seuil $5\\%$.<br>\n",
    "Pour déterminer le quantile "
   ]
  },
  {
   "cell_type": "markdown",
   "metadata": {},
   "source": [
    "Au seuil $\\alpha=10\\%$ on doit comparer $D_{\\chi^{2}}$ au quantile $1-\\alpha=1-0.1=0.90$ d'une loi du Chi_deux à 9 degrés de liberté (page 14 table ligne v=9 et colonne 0.90):\n",
    "$$ q_{0.90}^{\\chi^{2}_{9}}=14.684$$\n",
    "Comme $D_{\\chi^{2}}=138.2898>q_{0.90}^{\\chi^{2}_{9}}=14.684$ les variables ne sont pas indépendantes au seuil $10\\%$."
   ]
  },
  {
   "cell_type": "markdown",
   "metadata": {},
   "source": [
    "# Exercice 3.2\n",
    "A partir de 200 dossiers d'une agence immobilière, on recense les réponses positives et négatives selon la situation maritale du demandeur (célibataire ou en couple). On obtient les résultats suivants:\n",
    "$$\\begin{array}{|c|c|c|}\n",
    "\\hline\n",
    " & Célibataire & En couple\\\\\n",
    "\\hline\n",
    "\\mbox{Dossier accepté} & 34 & 58\\\\\n",
    "\\hline\n",
    "\\mbox{Dossier refusé} & 66 & 42\\\\\n",
    "\\hline\n",
    "\\end{array}\n",
    "$$\n",
    "1. Calculer la statistique du Chi-deux.\n",
    "2. Les deux variables sont-elles indépendantes au seuil 5%?"
   ]
  },
  {
   "cell_type": "markdown",
   "metadata": {},
   "source": [
    "1. On a le tableau de contingence :\n",
    "$$\\begin{array}{|c|c|c|c|}\n",
    "\\hline\n",
    " & Célibataire & En couple & Total\\\\\n",
    "\\hline\n",
    "\\mbox{Dossier accepté} & 34 & 58 & 92\\\\\n",
    "\\hline\n",
    "\\mbox{Dossier refusé} & 66 & 42 & 108\\\\\n",
    "\\hline\n",
    "Total & 100 & 100 & 200\\\\\n",
    "\\hline\n",
    "\\end{array}\n",
    "$$   \n",
    "La statistique du $\\chi^{2}$ est donc\n",
    "$$\\begin{eqnarray*}\n",
    "D_{\\chi^{2}}&=&n\\left(\\left[\\sum_{j=1}^{2}\\sum_{k=1}^{2}\\frac{n_{jk}^{2}}{n_{j\\bullet}n_{\\bullet k}}   \\right] -1  \\right)=200\\left(\\left[\\frac{34^{2}}{92\\times 100}+ \\frac{58^{2}}{92\\times 100}+\\frac{66^{2}}{108\\times 100}\n",
    "+\\frac{42^{2}}{108\\times 100} \\right]-1  \\right)\\\\\n",
    "            &=&200\\left( \\frac{4520}{9200}+\\frac{6120}{10800}-1\\right)\\simeq 200(1.05797-1)\\simeq11.594\n",
    "\\end{eqnarray*}$$"
   ]
  },
  {
   "cell_type": "markdown",
   "metadata": {},
   "source": [
    "2. On J est composé de 2 modalités (Dossier accepté, Dossier refusé). K est composé de 2 modalités (Célibataire,En couple). Le nombre de degrés de liberté est d=(J-1)(K-1)=(2-1)(2-1)=1.<br>\n",
    "Le seuil est $\\alpha=5\\%$ donc $1-\\alpha=0.95$. On doit donc chercher le quantile d'ordre 0.95 pour une loi du Chi-deux à 1 degré de liberté: \n",
    "$$q_{0.95}^{\\chi_{1}^{2}}= 3.841$$"
   ]
  },
  {
   "cell_type": "markdown",
   "metadata": {},
   "source": [
    "On a $D_{\\chi^{2}}=11.594>q_{0.95}^{\\chi_{1}^{2}}= 3.841$ donc les variables X=état maritale et Y=acceptation du dossier sont dépendantes. "
   ]
  },
  {
   "cell_type": "markdown",
   "metadata": {},
   "source": [
    "# Exercice 3.3\n",
    "On considère les données suivantes:\n",
    "$$\\begin{array}{|c||c|c|c|c|c|c|c|c|c|c|c|}\n",
    "\\hline\n",
    "x_{i} & 1 &4 &4 &4 &8 &4 &1 &1 &1 &8\\\\\n",
    "\\hline\n",
    "y_{i} & -16 & 16 & 16 & 16 & 9 & 16 &-16 &-16 & -16 &9\\\\\n",
    "\\hline\n",
    "\\end{array}$$\n",
    "1. Faire le tableau des contingences.\n",
    "2. Calculer la statistique du Chi-deux. Les deux variables sont elles indépendantes au seuil 5\\%.\n",
    "3. Donner les distributions empiriques marginales.\n",
    "4. Calculer les moyennes et variances empiriques.\n",
    "5. Calculer la covariance empirique.\n",
    "6. Calculer le coefficient de corrélation empirique $r_{X,Y}$.\n",
    "7. Calculer la droite des moindres carrées corespondant à la régression de $X$ sur $Y$ $(x=\\hat{a}y+\\hat{b})$"
   ]
  },
  {
   "cell_type": "markdown",
   "metadata": {},
   "source": [
    "1. Les modalités de $x$ sont $\\{1,4,8\\}$. Les modalités de $y$ sont $\\{-16,9,16\\}$, on obtient donc le tableau de contingence suivant:<br>\n",
    "$$\\begin{array}{|c|c|c|c||c|}\n",
    "\\hline\n",
    "  y/x & 1 & 4 & 8 & Total\\\\\n",
    "\\hline\n",
    "-16 & 4 & 0 & 0 & 4\\\\\n",
    "\\hline\n",
    "9 & 0 & 0 & 2 & 2\\\\\n",
    "\\hline\n",
    "16 & 0 & 4 & 0 & 4\\\\\n",
    "\\hline\n",
    "Total & 4 & 4 & 2 & 10\\\\\n",
    "\\hline\n",
    "\\end{array}\n",
    "$$"
   ]
  },
  {
   "cell_type": "markdown",
   "metadata": {},
   "source": [
    "2. La statistique du $\\chi^{2}$ est <br>\n",
    "$\\begin{eqnarray*} \n",
    "D_{\\chi^{2}}&=&n\\left(\\left[\\sum_{j=1}^{J}\\sum_{k=1}^{K}\\frac{n_{jk}}{n_{j\\bullet}n_{\\bullet k}}    \\right]-1\\right)\n",
    "\\end{eqnarray*}=10\\left(\\frac{4^{2}}{4\\times4}+ \\frac{2^{2}}{2\\times2}+\\frac{4^{2}}{4\\times4}  -1\\right)=10(3-1)=20\n",
    "$"
   ]
  },
  {
   "cell_type": "markdown",
   "metadata": {},
   "source": [
    "Le nombre de modalité J est 3. Le nombre de modalité K est de 3. On a donc un nombre de degrés de libertés de $df=(3-1)(3-1)=4$"
   ]
  },
  {
   "cell_type": "markdown",
   "metadata": {},
   "source": [
    "le seuil est $5\\%$ donc on cherche le quantile d'ordre $1-\\alpha=1-0.05=0.95$ pour 4 df,\n",
    "$$q_{0.95}^{\\chi_{4}^{2}}= 9.488$$\n",
    "On a $D_{\\chi^{2}}=20>q_{0.95}^{\\chi_{4}^{2}}=9.488$ donc les variable x et y sont dépendantes au seuil $5\\%$"
   ]
  },
  {
   "cell_type": "markdown",
   "metadata": {},
   "source": [
    "3. La distribution empirique de x:<br>\n",
    "$\\begin{array}{|c|ccc|c|}\n",
    "\\hline\n",
    "\\mbox{modalité de x} &  1  & 4 & 8 & Total\\\\\n",
    "\\hline\n",
    "\\mbox{Effectif de x} & 4 & 4 & 2 & 10\\\\\n",
    "\\hline\n",
    "\\mbox{Fréquence marginale} & 4/10 & 4/10 & 2/10 & 1\\\\\n",
    "\\hline\n",
    "\\end{array}\n",
    "$<br><br>\n",
    "La distribution de y:<br>\n",
    "$\\begin{array}{|c|ccc|c|}\n",
    "\\hline\n",
    "\\mbox{modalité de y} &  -16  & 9 & 16 & Total\\\\\n",
    "\\hline\n",
    "\\mbox{Effectif de y} & 4 & 2 & 4 & 10\\\\\n",
    "\\hline\n",
    "\\mbox{Fréquence marginale} & 4/10 & 2/10 & 4/10 & 1\\\\\n",
    "\\hline\n",
    "\\end{array}\n",
    "$    "
   ]
  },
  {
   "cell_type": "markdown",
   "metadata": {},
   "source": [
    "4. <br>\n",
    "$\n",
    "\\begin{eqnarray*}\n",
    "\\overline{x}&=&\\frac{\\sum_{i=1}^{10}x_{i}}{10}=\\frac{1+4+4+4+8+4+1+1+1+8}{10}=\\frac{36}{10}\\\\\n",
    "\\overline{x^{2}}&=&\\frac{\\sum_{i=1}^{10}x_{i}}{10}=\\frac{1^{2}+4^{2}+4^{2}+4^{2}+8^{2}+4^{2}+1+1+1+8^{2}}{10}=\\frac{196}{10}\\\\\n",
    "S_{x}^{2}&=&\\overline{x^{2}}-\\overline{x}^{2}=\\left(\\frac{36}{10}\\right)^{2}-\\frac{196}{10}=\\frac{1960-1296}{100}=\\frac{664}{100}\\\\\n",
    "\\overline{y}&=&\\frac{\\sum_{i=1}^{10}y_{i}}{10}= \\frac{-16+16+16+ 16+9+16 +-16 + -16 + -16 +9}{10}=\\frac{18}{10}\\\\\n",
    "\\overline{y^{2}}&=&\\frac{\\sum_{i=1}^{10}y_{i}^{2}}{10} =  \\frac{(-16)^{2}+16^{2}+16^{2}+16^{2}+9^{2}+16^{2} +(-16)^{2} + (-16)^{2} + (-16)^{2} +9^{2}}{10}=\\frac{2210}{10}\\\\\n",
    "S_{y}^{2}&=&\\overline{y^{2}}-\\overline{y}^{2}= \\frac{2210}{10}-\\left(\\frac{18}{10}\\right)^{2}=\\frac{22100-324}{100}=\\frac{21776}{100}\n",
    "\\end{eqnarray*}\n",
    "$"
   ]
  },
  {
   "cell_type": "markdown",
   "metadata": {},
   "source": [
    "5. La covariance empirique est:\n",
    "\n",
    "$\\begin{eqnarray*}\n",
    "s_{xy}&=&\\overline{xy}-\\overline{x}\\overline{y}=\\frac{\\sum_{i=1}^{10}x_{i}y_{i}}{10}-\\frac{36}{10}\\frac{18}{10}\\\\\n",
    "      &=&\\frac{1\\times -16+4\\times 16+4\\times16 +4\\times16+8\\times 9+ 4\\times16+-16+-16+-16+8\\times9}{10}-\\frac{36}{10}\\frac{18}{10}\\\\\n",
    "      &=&\\frac{336}{10}-\\frac{36}{10}\\frac{18}{10}= \\frac{336\\times10-36\\times18}{100}=\\frac{2712}{100}=27.12\n",
    "\\end{eqnarray*}$"
   ]
  },
  {
   "cell_type": "markdown",
   "metadata": {},
   "source": [
    "6. Le coéfficient de corrélation empirique $r_{xy}$:<br>\n",
    "$\\begin{eqnarray*}\n",
    "s_{x}&=&\\sqrt{s_{x}^{2}}=\\sqrt{664/100}\\simeq 2.57682\\\\\n",
    "s_{y}&=&\\sqrt{s_{y}^{2}}=\\sqrt{21776/100}\\simeq 14.75669\\\\\n",
    "r_{xy}&=&\\frac{s_{xy}}{s_{x}s_{y}}=\\frac{27.12}{2.57682\\times 14.75669}=0.7132086\n",
    "\\end{eqnarray*}\n",
    "$"
   ]
  },
  {
   "cell_type": "markdown",
   "metadata": {},
   "source": [
    "7. On cherche la droite des moindres carrées de la régression de $X$ sur $Y$, $(x=\\hat{a}+\\hat{b})$:<br>\n",
    "$\n",
    "\\begin{eqnarray*}\n",
    "s_{xy}&=&27.12 \\mbox{ d'aprés 5.}\\\\\n",
    "\\overline{x}&=&36/10=3.6 \\mbox{ d'aprés 4.}\\\\\n",
    "\\overline{y}&=&18/10=1.8 \\mbox{ d'aprés 4.}\\\\\n",
    "\\overline{s_{y}^{2}}&=&217.76\\\\\n",
    "\\hat{a}&=&\\frac{s_{xy}}{s_{y}^{2}}=27.12/217.76\\simeq 0.12454\\\\\n",
    "\\hat{b}&=&\\overline{x}-\\hat{a}\\overline{y}=3.6-0.12454\\times 1.8 = 3.3758\n",
    "\\end{eqnarray*}\n",
    "$"
   ]
  }
 ],
 "metadata": {
  "kernelspec": {
   "display_name": "Python 3",
   "language": "python",
   "name": "python3"
  },
  "language_info": {
   "codemirror_mode": {
    "name": "ipython",
    "version": 3
   },
   "file_extension": ".py",
   "mimetype": "text/x-python",
   "name": "python",
   "nbconvert_exporter": "python",
   "pygments_lexer": "ipython3",
   "version": "3.7.1"
  }
 },
 "nbformat": 4,
 "nbformat_minor": 2
}
