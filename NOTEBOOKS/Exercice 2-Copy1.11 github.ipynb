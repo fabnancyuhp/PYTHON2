{
 "cells": [
  {
   "cell_type": "markdown",
   "metadata": {},
   "source": [
    "Avant de faire cet exercice, il faut lire les pages 28, 29 et 30 du cours de statistiques descriptives."
   ]
  },
  {
   "cell_type": "markdown",
   "metadata": {},
   "source": [
    "# Exercice 2.11"
   ]
  },
  {
   "cell_type": "markdown",
   "metadata": {},
   "source": [
    "Karim,Pierre, Julie, Samia sont partis camper en forêt. Karim trouve une mallette avec 40 000 euros. Il décide de verser 7.5% de la somme à une oeuvre de charité. Le reste de la somme est répartie entre eux de la façon suivante:\n",
    "$$\n",
    "\\begin{array}{|c|c|c|c|c|}\n",
    "\\hline\n",
    "Prénom & Karim & Julie & Pierre & Samia\\\\\n",
    "\\hline\n",
    "\\mbox{Somme en euros} & 15a & a & 2a & a/2\\\\\n",
    "\\hline\n",
    "\\end{array}\n",
    "$$"
   ]
  },
  {
   "cell_type": "markdown",
   "metadata": {},
   "source": [
    "1. Calculer a (Justifier)\n",
    "2. Rappeler et calculer les valeurs nécessaires au tracé de la courbe de Lorentz.\n",
    "3. Tracer la courbe de Lorentz.\n",
    "4. Calculer l'indice de Gini.\n",
    "5. Commenter."
   ]
  },
  {
   "cell_type": "markdown",
   "metadata": {},
   "source": [
    "1/ La somme donnée à l'oeuvre de charité est $40000\\times 7.5/100=3000$ euros. La somme que les 4 individues vont se partager est donc $40000-3000=37000$. <br>\n",
    "On doit avoir $15a+a+2a+\\frac{a}{2}=18a+\\frac{a}{2}=\\frac{36a}{2}+\\frac{a}{2}=\\frac{37a}{2}=37000$.<br>\n",
    "On a donc $a=\\frac{2\\times 37000}{37}=2000$.<br>"
   ]
  },
  {
   "cell_type": "markdown",
   "metadata": {},
   "source": [
    "2/ Pour tracer la courbe de Lorentz on a besoin de \n",
    "* la série ordonnée $x_{(i)}$\n",
    "* $S_{i}=\\sum_{k=1}^{i}x_{(k)}$\n",
    "* La somme totale $S=\\sum_{i=1}^{n}x_{i}=\\sum_{i=1}^{n}x_{(i)}$\n",
    "* Les $Q_{i}=\\frac{S_{i}}{S}$ sans oublier $Q_{0}=0$\n",
    "* Les $i/n$"
   ]
  },
  {
   "cell_type": "markdown",
   "metadata": {},
   "source": [
    "3/ Les sommes reçues sont:\n",
    "   * Karim: $x_{1}=15a=15\\times 2000=30000$\n",
    "   * Julie: $x_{2}=a=2000$\n",
    "   * Pierre: $x_{3}=2a=2\\times2000=4000$\n",
    "   * Samia: $x_{4}=a/2=2000/2=1000$"
   ]
  },
  {
   "cell_type": "markdown",
   "metadata": {},
   "source": [
    "$$\\begin{array}{|c|c|c|c|c|c|}\n",
    "\\hline\n",
    "x_{(i)} & & 1000 & 2000 & 4000  & 30000\\\\\n",
    "\\hline\n",
    "S_{i} & & 1000 & 1000+2000=3000 & 3000+4000=7000 & 7000+30000=37000=S\\\\\n",
    "\\hline\n",
    "Q_{i} &0& \\frac{1000}{37000}=\\frac{1}{37}\\simeq 0.027 & \\frac{3000}{37000}=\\frac{3}{37}\\simeq0.081 & \\frac{7000}{37000}=\\frac{7}{37}\\simeq 0.189 & \\frac{37000}{37000}=1\\\\\n",
    "\\hline\n",
    "i/n &0 & \\frac{1}{4}=0.25 & \\frac{2}{4}=0.5 & \\frac{3}{4}=0.75  & \\frac{4}{4}=1\\\\\n",
    "\\hline\n",
    "\\end{array}\n",
    "$$"
   ]
  },
  {
   "cell_type": "code",
   "execution_count": 23,
   "metadata": {},
   "outputs": [
    {
     "data": {
      "image/png": "[encoded data removed]",
      "text/plain": [
       "<Figure size 432x288 with 1 Axes>"
      ]
     },
     "metadata": {
      "needs_background": "light"
     },
     "output_type": "display_data"
    }
   ],
   "source": []
  },
  {
   "cell_type": "markdown",
   "metadata": {},
   "source": [
    "4/L'indice de Gini est \n",
    "$$\\begin{eqnarray*}\n",
    "G&=&1+\\frac{1}{n}\\left[1-2\\sum_{i=1}^{n}Q_{i}  \\right]\\\\\n",
    " &=&1+\\frac{1}{4}\\left[1-2\\left(\\frac{1}{37}+\\frac{3}{37}+\\frac{7}{37}+\\frac{37}{37}  \\right)\\right]\\\\\n",
    " &=&1+\\frac{1}{4}\\left[1-2\\frac{48}{37}  \\right]\\\\\n",
    " &=&1+\\frac{1}{4}\\left[1-\\frac{96}{37}\\right]\\\\\n",
    " &=&1+\\frac{1}{4}\\left[-\\frac{59}{37}  \\right]\\\\\n",
    " &=&1-\\frac{59}{148}\\simeq 0.6014\n",
    "\\end{eqnarray*}\n",
    "$$"
   ]
  },
  {
   "cell_type": "markdown",
   "metadata": {},
   "source": [
    "5/ Comme $G>>0$ alors la distribution de cette somme d'argent est inégalitaire."
   ]
  }
 ],
 "metadata": {
  "kernelspec": {
   "display_name": "Python 3",
   "language": "python",
   "name": "python3"
  },
  "language_info": {
   "codemirror_mode": {
    "name": "ipython",
    "version": 3
   },
   "file_extension": ".py",
   "mimetype": "text/x-python",
   "name": "python",
   "nbconvert_exporter": "python",
   "pygments_lexer": "ipython3",
   "version": "3.7.1"
  }
 },
 "nbformat": 4,
 "nbformat_minor": 2
}
