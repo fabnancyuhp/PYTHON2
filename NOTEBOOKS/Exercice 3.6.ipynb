{
 "cells": [
  {
   "cell_type": "markdown",
   "metadata": {},
   "source": [
    "# Exercice 3.6 (calcul des indicateurs empiriques)\n",
    "1. On dispose de 2 séries: $(x_{1},\\dots,x_{n})$ et $(y_{1}\\dots,y_{n})$. On donne les valeurs suivantes:<br><br>\n",
    "$$\n",
    "\\begin{array}{ccccc}\n",
    "\\overline{x}=-1 & \\overline{y}=-2 & s_{xy}=2 & s_{x}^{2}=2 & s_{y}^{2}=9\n",
    "\\end{array}\n",
    "$$\n",
    "   * (a) Calculer $\\overline{xy}$ la moyenne empirique de $xy$\n",
    "   * (b) Calculer la droite de régression de $x$ sur $y$ d'équation $x=\\hat{a}y+\\hat{b}$\n",
    "   \n",
    "2. On définit 2 nouvelles séries : $(u_{1},\\dots,u_{n})$ et $(w_{1},\\dots,w_{n})$ telles que\n",
    "$$ \n",
    "\\begin{array}{ccc}\n",
    "u_{i}=-x_{i}^{2}+1, & et & w_{i}=2y_{i}^{2}-1\n",
    "\\end{array}\n",
    "$$\n",
    "pout tout $i=1\\dots n$\n",
    "   * (a) Calculer $\\overline{x^{2}}$ et $\\overline{y^{2}}$ les moyennes empiriques de $x^{2}$ et de $y^{2}$.\n",
    "   * (b) En déduire $\\overline{u}$ et $\\overline{w}$ les moyennes empiriques de $u$ et de $w$.\n",
    "\n",
    "3. On donne de plus:\n",
    "$$\\begin{array}{ccccc}\n",
    "\\overline{x^{2}y^{2}}=70, &  & r_{u,w}=-\\frac{1}{4}, & & s^{2}_{w}=25 \n",
    "\\end{array}\n",
    "$$\n",
    "   * (a) Calculer $s_{x^{2},y^{2}}$ la covariance empirique de $x^{2}$ et $y^{2}$.\n",
    "   * (b) En déduire $s_{u,w}$ la covariance de empirique de $u$ et $w$.\n",
    "   * (c) En déduire $s_{u}^{2}$ la variance empirique $u$.\n",
    "   * (d) En déduire $\\overline{x^{4}}$ la moyenne empirique de $\\overline{x^{4}}$."
   ]
  },
  {
   "cell_type": "markdown",
   "metadata": {},
   "source": [
    "1. (a) <br>\n",
    "$\\begin{eqnarray*}\n",
    "s_{xy}&=&\\overline{xy}-\\overline{x}\\times\\overline{y}\\\\\n",
    "      &\\Leftrightarrow&\\\\\n",
    "\\overline{xy}&=&s_{xy}+\\overline{x}\\times\\overline{y}=2+-1\\times -2=2+2=4      \n",
    "\\end{eqnarray*}\n",
    "$\n",
    "<br>\n",
    "(b)<br>  \n",
    "$\\begin{eqnarray*}\n",
    "\\hat{a}&=&\\frac{s_{xy}}{s_{y}^{2}} = \\frac{2}{9}\\\\\n",
    "\\hat{b}&=&\\overline{x}-\\hat{a}\\overline{y}=-1-\\frac{2}{9}\\times-2=\\frac{4}{9}-1=\\frac{-5}{9}\n",
    "\\end{eqnarray*}\n",
    "$"
   ]
  },
  {
   "cell_type": "markdown",
   "metadata": {},
   "source": [
    "2. (a)<br>\n",
    "$\n",
    "\\begin{eqnarray*}\n",
    "\\overline{x^{2}}&=&s_{x}^{2}+\\overline{x}^{2}=4+(-1)^{2}=5\\\\\n",
    "\\overline{y^{2}}&=&s_{y}^{2}+\\overline{y}^{2}=9+(-2)^{2}=9+4=13\n",
    "\\end{eqnarray*}\n",
    "$"
   ]
  },
  {
   "cell_type": "markdown",
   "metadata": {},
   "source": [
    "(b) On sait d'aprés la page 50 $\\overline{ax+b}=a\\overline{x}+b$, on a donc $\\overline{ax^{2}+b}=a\\overline{x^{2}}+b$. De même $\\overline{ay+b}=a\\overline{y}+b$, on a donc $\\overline{ay^{2}+b}=a\\overline{y^{2}}+b$.<br><br>\n",
    "$\n",
    "\\begin{eqnarray*}\n",
    "\\overline{u}&=&\\overline{-x^{2}+1}=-\\overline{x^{2}}+1=-5+1=-4\\\\\n",
    "\\overline{w}&=&\\overline{2y^{2}-1}=2\\overline{y^{2}}-1=2\\times13-1=25\n",
    "\\end{eqnarray*}\n",
    "$"
   ]
  },
  {
   "cell_type": "markdown",
   "metadata": {},
   "source": [
    "3. (a)<br>\n",
    "$\\begin{eqnarray*}\n",
    "s_{x^{2},y^{2}}&=&\\overline{x^{2}y^{2}}-\\overline{x^{2}}\\times\\overline{y^{2}}=70-5\\times 13=5\n",
    "\\end{eqnarray*}\n",
    "$<br>\n",
    "(b) D'aprés la page 52 $s_{ax+b,cy+d}=acs_{x,y}$ donc <br>\n",
    "$\n",
    "\\begin{eqnarray*}\n",
    "s_{u,w}&=&s_{-x^{2}+1,2y^{2}-1}=-1\\times2s_{x^{2},y^{2}}=-2\\times 5=-10\n",
    "\\end{eqnarray*}\n",
    "$"
   ]
  },
  {
   "cell_type": "markdown",
   "metadata": {},
   "source": [
    "(c) On cherche $s_{u}^{2}$:<br><br>\n",
    "$\\begin{eqnarray*}\n",
    "s_{w}&=&\\sqrt{s_{w}^{2}}=\\sqrt{25}=5\\\\\n",
    "r_{u,w}&=&\\frac{s_{u,v}}{s_{u}s_{w}} \\mbox{  donc}\\\\\n",
    "s_{u}&=&\\frac{s_{u,v}}{s_{w}r_{u,w}}=\\frac{-10}{(-1/4)5}=\\frac{-40}{-5}=8 \\mbox{ donc}\\\\\n",
    "s_{u}^{2}&=&(s_{u})^{2}=8^{2}=64\n",
    "\\end{eqnarray*}\n",
    "$"
   ]
  },
  {
   "cell_type": "markdown",
   "metadata": {},
   "source": [
    "(d) En déduire $\\overline{x^{4}}$:<br>\n",
    "$\\begin{eqnarray*}\n",
    "s_{u}^{2}&=&s_{-x^{2}+1}^{2}=s_{x^{2}}^{2}=\\overline{x^{4}}-\\left(\\overline{x^{2}}\\right)^{2}\\\\\n",
    "         &\\Leftrightarrow&\\\\\n",
    "\\overline{x^{4}}&=&s_{u}^{2}+\\left(\\overline{x^{2}}\\right)^{2}=64+5^{2}=64+25=89  \n",
    "\\end{eqnarray*}\n",
    "$"
   ]
  },
  {
   "cell_type": "code",
   "execution_count": null,
   "metadata": {},
   "outputs": [],
   "source": []
  }
 ],
 "metadata": {
  "kernelspec": {
   "display_name": "Python 3",
   "language": "python",
   "name": "python3"
  },
  "language_info": {
   "codemirror_mode": {
    "name": "ipython",
    "version": 3
   },
   "file_extension": ".py",
   "mimetype": "text/x-python",
   "name": "python",
   "nbconvert_exporter": "python",
   "pygments_lexer": "ipython3",
   "version": "3.7.1"
  }
 },
 "nbformat": 4,
 "nbformat_minor": 2
}
