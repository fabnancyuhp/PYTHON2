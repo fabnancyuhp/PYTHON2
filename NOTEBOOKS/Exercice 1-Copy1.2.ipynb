{
 "cells": [
  {
   "cell_type": "markdown",
   "metadata": {},
   "source": [
    "# Exercice 1.2\n",
    "\n",
    "Dans le fichier data-usa.xls, on a collecté des données sur les 51 états américains. Le tableau 1.4 est une représentation partielle des données.\n",
    "1. Décrire la population statistique, la taille de cette population, un individu ainsi que les varaibles étudiées.\n",
    "2. On s'intéresse au caractère \"Républicain\" ou \"Démocrate\" de chaque état (ie vote majoritairement républicain ou démocrate). Quel est le type d ela variable étudiée? Proposer une représentation graphique des données.\n",
    "3. On s'intéresse maintenant à la variable \"Nombre de naissance pour 1000 habitants (2006)\"\n",
    "   * (a) Quel est le type de la variable étudiée?\n",
    "   * (b) Faire un tableau des fréquences (avec Excel)\n",
    "   * (c) Proposer une représentation graphique des données (avec Excel) "
   ]
  },
  {
   "cell_type": "markdown",
   "metadata": {},
   "source": [
    "1/ \n",
    "* La population statistique est l'ensembles des états des USA.\n",
    "* Cette population est de taille 51 "
   ]
  },
  {
   "cell_type": "markdown",
   "metadata": {},
   "source": [
    "Les variables étudiées sont:\n",
    "* Population (en milliers) \n",
    "* Nombre de naissances pour 1000 habitants \n",
    "* Nombre de mariages pour 1000 habitants\n",
    "* Nombre de divorces pour 1000 habitants\n",
    "* Taux de mortalité infantile\n",
    "* Income per Capita\n",
    "* Vote majoritaire pour démocrates ou républicains"
   ]
  },
  {
   "cell_type": "markdown",
   "metadata": {},
   "source": [
    "2/ Vote majoritaire pour démocrates ou républicains est une variable qualitative. On peut représenter ces données par un diagramme en secteur. Il ya 51 dans le tableau 1.4"
   ]
  },
  {
   "cell_type": "markdown",
   "metadata": {},
   "source": [
    "Il y a 22 états républicains : \n",
    "Alabama, Alaska, Arizona, Arkansas, Georgia, Idaho,Kansas,Kentucky,Louisiana,Mississippi,Missouri,Montana,Nebraska,North Dakota,Oklahoma,South Carolina,South Dakota,Tennessee,Texa,Utah,West Virginia, Wyoming"
   ]
  },
  {
   "cell_type": "markdown",
   "metadata": {},
   "source": [
    "Il y a 29 états démocrates : California ,Colorado,Connecticut,Delaware,District of Columbia,Florida,Hawaii,Illinois,Indiana,Iowa,Maine,Maryland,Massachusetts,Michigan,Minnesota,Nevada,New Hampshire,New Jersey,New Mexico ,New York ,North Carolina,Ohio,Oregon,Pennsylvania,Rhode Island,Vermont,Virginia,Washington, Wisconsin"
   ]
  },
  {
   "cell_type": "markdown",
   "metadata": {},
   "source": [
    "L'angle correspondant au démocrate dans le diagramme en secteur est $360\\times 29/51\\simeq205 ^{\\circ}$. L'angle correspondant au républicain dans le diagramme en secteur est $360\\times 22/51\\simeq155 ^{\\circ}$"
   ]
  },
  {
   "cell_type": "markdown",
   "metadata": {},
   "source": [
    "#### On import les données:"
   ]
  },
  {
   "cell_type": "code",
   "execution_count": 9,
   "metadata": {},
   "outputs": [
    {
     "data": {
      "text/plain": [
       "<matplotlib.axes._subplots.AxesSubplot at 0xc05cfd0>"
      ]
     },
     "execution_count": 9,
     "metadata": {},
     "output_type": "execute_result"
    },
    {
     "data": {
      "image/png": "[encoded data removed]",
      "text/plain": [
       "<Figure size 360x360 with 1 Axes>"
      ]
     },
     "metadata": {},
     "output_type": "display_data"
    }
   ],
   "source": []
  },
  {
   "cell_type": "markdown",
   "metadata": {},
   "source": [
    "3/ La variable \"Nombre de naissance pour 1000 habitants (2006)\" est une variable quantitative continue."
   ]
  },
  {
   "cell_type": "markdown",
   "metadata": {},
   "source": [
    "On va faire un tableau des fréquences et effectifs sous Excel et python. On va choisire les classe suivante:\n",
    "$$[10,12[,[12,14[,[14,16[,[16,18[,[18,20[,[20,22[$$"
   ]
  },
  {
   "cell_type": "markdown",
   "metadata": {},
   "source": [
    "Les 6 états de la classe $[10,12[$ sont Connecticut, Maine, New Hampshire, Rhode Island, Vermont,West Virginia."
   ]
  },
  {
   "cell_type": "markdown",
   "metadata": {},
   "source": [
    "Les 17 états de la classe $[12,14[$ sont  Alabama,Florida,Iowa, Kentucky,Maryland,Massachusetts,Michigan,Missouri, Montana,New Jersey,New York,North Dakota,Ohio,Oregon,Pennsylvania,Washington,Wisconsin "
   ]
  },
  {
   "cell_type": "markdown",
   "metadata": {},
   "source": [
    "Les 22 états de la classe $[14,16[$ sont  Arkansas, California ,Colorado,Delaware,District of Columbia,Georgia, Hawaii,Illinois,Indiana,Kansas,Louisiana,Minnesota,Mississippi,Nebraska,New Mexico ,North Carolina,Oklahoma,South Carolina,South Dakota,Tennessee,Virginia,Wyoming"
   ]
  },
  {
   "cell_type": "markdown",
   "metadata": {},
   "source": [
    "Les 5 états de la classe $[16,18[$ sont Alaska,Arizona ,Idaho,Nevada,Texas."
   ]
  },
  {
   "cell_type": "markdown",
   "metadata": {},
   "source": [
    "Il n'y a pas d'état dans la classe $[18,20[$"
   ]
  },
  {
   "cell_type": "markdown",
   "metadata": {},
   "source": [
    "L'Utah est le seul état de la classe $[20,22[$."
   ]
  },
  {
   "cell_type": "markdown",
   "metadata": {},
   "source": [
    "La tableau des fréquances est donc:\n",
    "$$\\begin{array}{|c|c|c|c|c|c|c|}\n",
    "\\hline\n",
    "Classes & [10, 12[ &[12,14[ & [14,16[ & [16,18[ & [18,20[ & [20,22[\\\\\n",
    "\\hline\n",
    "n_{i} & 6 & 17 & 22 & 5 & 0 & 1\\\\\n",
    "\\hline\n",
    "f_{i} & 6/51\\simeq 0.12 & 17/51\\simeq 0.33 & 22/51\\simeq 0.43 & 5/51\\simeq 0.10 & 0/51=0 & 1/51\\simeq 0.02\\\\\n",
    "\\hline\n",
    "\\end{array}$$"
   ]
  },
  {
   "cell_type": "markdown",
   "metadata": {},
   "source": [
    "#### On trace l'histogramme"
   ]
  },
  {
   "cell_type": "code",
   "execution_count": 3,
   "metadata": {},
   "outputs": [
    {
     "data": {
      "image/png": "[encoded data removed]",
      "text/plain": [
       "<Figure size 432x288 with 1 Axes>"
      ]
     },
     "metadata": {
      "needs_background": "light"
     },
     "output_type": "display_data"
    }
   ],
   "source": []
  }
 ],
 "metadata": {
  "kernelspec": {
   "display_name": "Python 3",
   "language": "python",
   "name": "python3"
  },
  "language_info": {
   "codemirror_mode": {
    "name": "ipython",
    "version": 3
   },
   "file_extension": ".py",
   "mimetype": "text/x-python",
   "name": "python",
   "nbconvert_exporter": "python",
   "pygments_lexer": "ipython3",
   "version": "3.7.1"
  }
 },
 "nbformat": 4,
 "nbformat_minor": 2
}
