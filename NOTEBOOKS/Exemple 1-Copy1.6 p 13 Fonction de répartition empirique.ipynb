{
 "cells": [
  {
   "cell_type": "markdown",
   "metadata": {},
   "source": [
    "# Le but de cette présentation est d'expliquer l'exemple 1.6 p 13. Le but de cet exemple est de faire une fonction de répartition empirique de la variable Income des données page 15."
   ]
  },
  {
   "cell_type": "markdown",
   "metadata": {},
   "source": [
    "### Dans les données de cet exemple (page 15) \n",
    "* la population est l'ensemble des états des USA. \n",
    "* Un individu est un état des USA\n",
    "* On étudie le caractère du Incom. Ce caractère est quantitatif continu."
   ]
  },
  {
   "cell_type": "markdown",
   "metadata": {},
   "source": [
    "On utilise les notations suivantes page 11 et 12:\n",
    "* $[b_{j-1},b_{j}[$ : classe dont les bornes sont $b_{j}$ et $b_{j-1}$ \n",
    "* $n_{j}$ est l'effectif de la j-ème classe $[b_{j-1},b_{j}[$ \n",
    "* $N_{j}$ est l'effectif cumulé croissant de la j-ème classe $[b_{j-1},b_{j}[$ \n",
    "* $n$ est l'effectif total\n",
    "* $f_{j}=n_{j}/n$ est la fréquence de la j-ème classe $[b_{j-1},b_{j}[$\n",
    "* $h_{j}=f_{j}/(b_{j}-b_{j-1})$ est la fréquence renormalisé \n",
    "* $F_{j}$ la fréquence cumulé de la j-ème classe $[b_{j-1},b_{j}[$ "
   ]
  },
  {
   "cell_type": "markdown",
   "metadata": {},
   "source": [
    "### On import les données dans python"
   ]
  },
  {
   "cell_type": "markdown",
   "metadata": {},
   "source": [
    "A la page 13 on a les classes $[b_{j_1},b_{j}[$ suivantes:\n",
    "[3000;3500[, [3500;4000[, [4000;4500[, [4500,5000[, [5000,5500[, [5500,6000[ [6000,6500[.<br>\n",
    "On va déterminer les effectifs $n_{j}$ de chaque classe:"
   ]
  },
  {
   "cell_type": "markdown",
   "metadata": {},
   "source": [
    "la classe [3000,3500[ a 2 éléments : 'Arkansas', 'Mississippi'"
   ]
  },
  {
   "cell_type": "markdown",
   "metadata": {},
   "source": [
    "La classe [3500,4000] a 11 éléments : 'Alabama','Kentucky','Louisiana','Maine','NewMexico','NorthCarolina','Oklahoma',\n",
    " 'SouthCarolina','Tennessee','Vermont','WestVirginia'"
   ]
  },
  {
   "cell_type": "markdown",
   "metadata": {},
   "source": [
    "La classe [4000,4500[ a 11 éléments: 'Georgia','Idaho', 'Indiana','Missouri','Montana','NewHampshire','Pennsylvania','SouthDakota','Texas','Utah','Wisconsin'"
   ]
  },
  {
   "cell_type": "markdown",
   "metadata": {},
   "source": [
    "La classe [4500,5000[ a 18 éléments :'Arizona','Colorado','Delaware','Florida','Hawaii','Iowa','Kansas','Massachusetts','Michigan','Minnesota','Nebraska','NewYork','Ohio','Oregon',\n",
    " 'RhodeIsland','Virginia','Washington','Wyoming'"
   ]
  },
  {
   "cell_type": "markdown",
   "metadata": {},
   "source": [
    "La classe [5000,5500[ a 7 éléments 'California','Connecticut','Illinois','Maryland','Nevada','NewJersey','NorthDakota'"
   ]
  },
  {
   "cell_type": "markdown",
   "metadata": {},
   "source": [
    "La classe [5500,6000[ n'a pas d'élément"
   ]
  },
  {
   "cell_type": "markdown",
   "metadata": {},
   "source": [
    "La classe [6000,6500[ a 1 élément : 'Alaska'"
   ]
  },
  {
   "cell_type": "markdown",
   "metadata": {},
   "source": [
    "L'effectif total est de n=2+11+11+18+7+0+1=50."
   ]
  },
  {
   "cell_type": "markdown",
   "metadata": {},
   "source": [
    "### On obtient donc le tableau des fréquences suivants:"
   ]
  },
  {
   "cell_type": "markdown",
   "metadata": {},
   "source": [
    "$$\\begin{array}{|c|c|c|c|c|c|c|c|}\n",
    "\\hline\n",
    "[b_{j-1},b_{j}[ & [3000,3500[ & [3500,4000[ & [4000,4500[ & [4500,5000[ & [5000,5500[ & [5500,6000[ & [6000,6500[\\\\\n",
    "\\hline\n",
    "n_{j} & 2 & 11 & 11 & 18 & 7 & 0 & 1\\\\\n",
    "\\hline\n",
    "f_{j} & 2/50=0.04 & 11/50=0.22 & 11/50=0.22 & 18/50=0.36 & 7/50=0.14 & 0/50=0 & 1/50=0.02\\\\\n",
    "\\hline\n",
    "F_{j} & 0.04 & 0.04+0.22=0.26 & 0.26+0.22=0.48 & 0.48+0.36=0.84 & 0.84+0.14=0.98 & 0.98+0=0.98 & 0.98+0.02\\\\\n",
    "\\hline\n",
    "\\end{array}\n",
    "$$"
   ]
  },
  {
   "cell_type": "markdown",
   "metadata": {},
   "source": [
    "### On trace la fonction de répartition empirique \n",
    "D'aprés la page 12, pour tracer cette courbe on fait l'hypothèse d'équirépartition dans les classes."
   ]
  },
  {
   "cell_type": "code",
   "execution_count": 41,
   "metadata": {},
   "outputs": [
    {
     "data": {
      "image/png": "[encoded data removed]",
      "text/plain": [
       "<Figure size 432x288 with 1 Axes>"
      ]
     },
     "metadata": {
      "needs_background": "light"
     },
     "output_type": "display_data"
    }
   ],
   "source": []
  }
 ],
 "metadata": {
  "kernelspec": {
   "display_name": "Python 3",
   "language": "python",
   "name": "python3"
  },
  "language_info": {
   "codemirror_mode": {
    "name": "ipython",
    "version": 3
   },
   "file_extension": ".py",
   "mimetype": "text/x-python",
   "name": "python",
   "nbconvert_exporter": "python",
   "pygments_lexer": "ipython3",
   "version": "3.7.1"
  }
 },
 "nbformat": 4,
 "nbformat_minor": 2
}
