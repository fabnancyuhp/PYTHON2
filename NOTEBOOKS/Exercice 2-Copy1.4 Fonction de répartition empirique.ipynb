{
 "cells": [
  {
   "cell_type": "markdown",
   "metadata": {},
   "source": [
    "On va tracer un exemple de fonction empirique dans le cas d'un caractère quantitatif continu."
   ]
  },
  {
   "cell_type": "markdown",
   "metadata": {},
   "source": [
    "On utilise les notations suivantes en cohérence avec le cours:\n",
    "* $[b_{j-1},b_{j}[$ : classe dont les bornes sont $b_{j}$ et $b_{j-1}$ (page 12,13, 18)\n",
    "* $n_{j}$ est l'effectif de la j-ème classe $[b_{j-1},b_{j}[$ (page 12)\n",
    "* $N_{j}$ est l'effectif cumulé croissant de la j-ème classe $[b_{j-1},b_{j}[$ (page 12)\n",
    "* $n$ est l'effectif total\n",
    "* $f_{j}=n_{j}/n$ est la fréquence de la j-ème classe $[b_{j-1},b_{j}[$\n",
    "* $h_{j}=f_{j}/(b_{j}-b_{j-1})$ est la fréquence renormalisé \n",
    "* $F_{j}$ la fréquence cumulé de la j-ème classe $[b_{j-1},b_{j}[$ (page 12, 13, 21)"
   ]
  },
  {
   "cell_type": "markdown",
   "metadata": {},
   "source": [
    "# Exercice 2.4"
   ]
  },
  {
   "cell_type": "markdown",
   "metadata": {},
   "source": [
    "En 1982, la répartition en pourcentage des agents féminins de l'état selon leur salaire annuel net (en milier de francs) était:\n",
    "$$\n",
    "\\begin{array}{|c|c|c|c|c|}\n",
    "\\hline\n",
    "Salaire & [20,60[ & [60,100[ & [100,130[ & [130,200[\\\\\n",
    "\\hline\n",
    "Poucentage  & 18,3 & 42,4 & 32,4 & 6,9\\\\\n",
    "\\hline\n",
    "\\end{array}\n",
    "$$\n",
    "1. Donner la classe modale (Justifier).\n",
    "2. Tracer la fonction de répartition empirique (justifier).\n",
    "3. Calculer la médiane."
   ]
  },
  {
   "cell_type": "markdown",
   "metadata": {},
   "source": [
    "### Commentaire\n",
    "* Dans cet exercice la population est l'ensemble des agents féminins de 1982. \n",
    "* On a pas accés à la base de données complète.\n",
    "* Un individu est un agent féminin de l'état\n",
    "* On étudie le caractère du salaire. Ce caractère est quantitatif continu."
   ]
  },
  {
   "cell_type": "markdown",
   "metadata": {},
   "source": [
    "### Réponse"
   ]
  },
  {
   "cell_type": "markdown",
   "metadata": {},
   "source": [
    "Dans ce type d'exercice on fait le tableau suivant:\n",
    "$$\n",
    "\\begin{array}{|c|c|c|c|c|}\n",
    "\\hline\n",
    "[b_{j-1},b_{j}[ & [20,60[ & [60,100[ & [100,130[ & [130,200[\\\\\n",
    "\\hline\n",
    "t_{j}=b_{j}-b_{j-1} & 60-20=40 & 100-60= & 130-100=30 & 200-130=70\\\\\n",
    "\\hline\n",
    "n_{j} & 18,3 & 42,4 & 32,4 & 6,9 \\\\\n",
    "\\hline\n",
    "f_{j}=n_{j}/n & 0,183 & 0,424 & 0,324 & 0,069\\\\\n",
    "\\hline\n",
    "h_{j}=f_{j}/t_{j} & 0,183/40\\simeq 0.0046 & 0,424/40\\simeq 0.0106 & 0,324/30\\simeq 0.0108 & 0,069/70\\simeq 0.001\\\\\n",
    "\\hline\n",
    "F_{j} & 0.183 & 0,183+0,424=0.607 & 0.607+0,324=0.931 & 1\\\\\n",
    "\\hline\n",
    "\\end{array}\n",
    "$$<br>\n",
    "Ou $n=\\sum_{i=1}^{4}n_{i}=18,3+42,4+32,4+6,9=100$"
   ]
  },
  {
   "cell_type": "markdown",
   "metadata": {},
   "source": [
    "1/La classe modale est la classe qui a la fréquence renormalisé la plus grande (cf page 18). Le $h_{j}$ le plus grand (0.0108) est celui de la classe $[100,130[$. La classe modale est donc $[100,130[$."
   ]
  },
  {
   "cell_type": "markdown",
   "metadata": {},
   "source": [
    "2/ Pour tracer la fonction de répartition empirique, on l'hypothèse d'équirépartition entre les classes (cf page 12)."
   ]
  },
  {
   "cell_type": "code",
   "execution_count": 2,
   "metadata": {},
   "outputs": [
    {
     "data": {
      "image/png": "[encoded data removed]",
      "text/plain": [
       "<Figure size 432x288 with 1 Axes>"
      ]
     },
     "metadata": {
      "needs_background": "light"
     },
     "output_type": "display_data"
    }
   ],
   "source": []
  },
  {
   "cell_type": "markdown",
   "metadata": {},
   "source": [
    "3/On note par $F_{n}(x)$ la fonction de répartition empirique. La médiane est le point $q_{0.5}$ des abscisses tel $$F_{n}(q_{0.5})=0.5$$.\n",
    "Comme $F_{n}(60)=0.183$ et $F_{n}(100)=0.607$ donc $q_{0.5}\\in]60,100[$"
   ]
  },
  {
   "cell_type": "markdown",
   "metadata": {},
   "source": [
    "D'aprés la page 21 on a:\n",
    "$$\\frac{F_{j}-F_{j-1}}{b_{j}-b_{j-1}}=\\frac{\\alpha-F_{j-1}}{q_{\\alpha}-b_{j-1}} $$\n",
    "Dans le cadre de l'exercice ceci donne:\n",
    "$$\\frac{0.607 - 0.183}{100-60}=\\frac{0.5-0.183}{q_{0.5}-60} $$"
   ]
  },
  {
   "cell_type": "markdown",
   "metadata": {},
   "source": [
    "D'aprés la page 22:\n",
    "$$q_{\\alpha}=\\frac{(b_{j}-b_{j-1})(\\alpha-F_{j-1})}{F_{j}-F_{j-1}}+b_{j-1} $$\n",
    "ce qui donne\n",
    "$$q_{0.5}=\\frac{(100-60)(0.5-0.183)}{(0.607-0.183)}+60\\simeq 89.9 $$"
   ]
  },
  {
   "cell_type": "markdown",
   "metadata": {},
   "source": [
    "On représente la médiane:"
   ]
  },
  {
   "cell_type": "code",
   "execution_count": 8,
   "metadata": {},
   "outputs": [
    {
     "data": {
      "image/png": "[encoded data removed]",
      "text/plain": [
       "<Figure size 432x288 with 1 Axes>"
      ]
     },
     "metadata": {
      "needs_background": "light"
     },
     "output_type": "display_data"
    }
   ],
   "source": []
  }
 ],
 "metadata": {
  "kernelspec": {
   "display_name": "Python 3",
   "language": "python",
   "name": "python3"
  },
  "language_info": {
   "codemirror_mode": {
    "name": "ipython",
    "version": 3
   },
   "file_extension": ".py",
   "mimetype": "text/x-python",
   "name": "python",
   "nbconvert_exporter": "python",
   "pygments_lexer": "ipython3",
   "version": "3.7.1"
  }
 },
 "nbformat": 4,
 "nbformat_minor": 2
}
