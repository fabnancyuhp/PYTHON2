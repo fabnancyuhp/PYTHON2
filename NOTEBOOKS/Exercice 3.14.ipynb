{
 "cells": [
  {
   "cell_type": "markdown",
   "metadata": {},
   "source": [
    "Avant de faire cet exercice lisez attentivement la page 63,64 et 68,69 du cours."
   ]
  },
  {
   "cell_type": "markdown",
   "metadata": {},
   "source": [
    "# Exercice 3.14\n",
    "A son 18 ème anniversaire, une étudiante compte les économies qu'elle a accumulées dans sa tirelire depuis son enfance. Elle contient 1600 billets, dont 40 billets sont des billets de 20 euros, 500 sont des billets de 10 euros et le reste sont des billets de 5 euros."
   ]
  },
  {
   "cell_type": "markdown",
   "metadata": {},
   "source": [
    "## Partie A\n",
    "Son père lui propose le deal suivant. Tirer 120 billets avec remise dans la tirelire.<br>\n",
    "i) Si elle tire un nombre de billets de 20 euros strictement supérieur à 6 euros, il ajoutera 100 euros à sa tirelire.<br>\n",
    "ii) Si elle tire exactement 6 billets de 20 euros, il ajoutera 1000 euros à sa tirelire.<br>\n",
    "iii) Sinon, elle devra verser 1000 euros à son père."
   ]
  },
  {
   "cell_type": "markdown",
   "metadata": {},
   "source": [
    "1. Combien d'euros la tirelire contient elle? Quelle est la probabilité de tirer un billet de 20 euros?<br>\n",
    "2. Soit $X$ le nombre e billets de 20 euros tirées au cours de ces 120 tirages. Quelle est la loi de $X$? (vous donnerez le nom de la loi, le support et les probabilités associées). Donner sans calculs son espérance et sa variance.\n",
    "3. Calculer les probabilités $P(X>6)$, $P(X=6)$ et $P(X<6)$.  \n",
    "4. Soit $Y$ la somme en euros qu'elle touche suite à ce deal (si elle verse 1000 euros, on écrira $Y=-1000$). Calculer la somme moyenne qu'elle peut espérer suite au deal avec son père. Que lui conseillez-vous, d'accepter ou de refuser le deal?"
   ]
  },
  {
   "cell_type": "markdown",
   "metadata": {},
   "source": [
    "## Partie B\n",
    "Sa mère lui propose un autre deal. Tirer 100 billets avec remise dans la tirelire.<br>\n",
    "i) Si elle tire un nombre de billets de 5 euros strictement supèrieur à $a$, elle ajoutera 100 euros à sa tirelire.<br>\n",
    "ii) Si elle tire exactement $a$ billets de 5 euros, elle ajoutera 500 euros à sa tirelire.<br>\n",
    "iii) Sinon, elle devra verser 200 euros à son frère."
   ]
  },
  {
   "cell_type": "markdown",
   "metadata": {},
   "source": [
    "1. Quelle est la probabilité de tirer un billet de 5 euros? Soit $Z$ le nombre de billets de 5 euros tirés au cours de ces 100 de ces 100 tirages. Quelle est la loi de $Z$? (vous donnerez le nom de la loi, le support et les probabilités associées). Donner sans calculs son espérance et sa variance.\n",
    "2. Pour aidez la mêre à choisir la valeur de $a$ déterminer $b$ tel que $P(Z>b)=0.6$ et choisir pour $a$ la valeur entière supérieure de b.\n",
    "3. Calculer les probabilités $P(Z>a)$, $P(Z=A)$ et $P(Z<a)$.\n",
    "4. Soit $W$ la somme en euros qu'elle touche suite à ce deal (si elle verse 200 euros, on écrira (W=-200). Calculer la somme moyenne qu'elle peut espérer suite au deal avec sa mère. Que lui conseillez-vous, d'accepter ou de refuser le deal?"
   ]
  },
  {
   "cell_type": "markdown",
   "metadata": {},
   "source": [
    "## Réponse"
   ]
  },
  {
   "cell_type": "markdown",
   "metadata": {},
   "source": [
    "## Partie A"
   ]
  },
  {
   "cell_type": "markdown",
   "metadata": {},
   "source": [
    "1) La tirelire contient 40 billets de 20 euros, 500 billets de 10 euros et 1600-500-40=1060 billets de 5 euros. La somme totale de est $40\\times 20+500\\times 10+1060\\times 5=11100$. La probabilité de tirer un billet de 20 euros est $p=40/1600=4/160=0.025$."
   ]
  },
  {
   "cell_type": "markdown",
   "metadata": {},
   "source": [
    "2) On fait n=120 tirages avec remise. La probabilité de tirer un billet de 20 euros est p=0.025. $X$ est donc une loi binomiale de paramètre n=120 et p=0.025. $X\\sim \\mathcal{B}(120,0.025)$. Le support de $X$ est $\\{0,1,\\dots,120 \\}$.<br>\n",
    "On a $P(X=k)={120 \\choose k}0.025^{k}(1-0.025)^{120-k}$<br>\n",
    "On sait que $E(X)=np=120\\times0.025=3$ et $V(X)=npq=120\\times 0.025\\times (1-0.025)=2.925$ "
   ]
  },
  {
   "cell_type": "markdown",
   "metadata": {},
   "source": [
    "<font size=\"10\"><span>&#9888;</span></font> <font size=\"5\">lire la section 7.2 page 68</font>"
   ]
  },
  {
   "cell_type": "markdown",
   "metadata": {},
   "source": [
    "3)  On a $n=120\\geq 50$ et $p=0.025<0.1$ donc $X$ suit $\\mathcal{B}(120,0.025)$ peut être approximé par une loi de poisson de paramètre $\\lambda=np=120\\times 0.025=3$. On va donc utiliser les tables page 8, colonne m=3.0<br><br>\n",
    "$$\n",
    "\\begin{eqnarray*}\n",
    "P(X>6)&=&1-P(X<6)=1-P(X\\geq 6)\\\\\n",
    "      &\\simeq&1-P(X\\geq 6) \\mbox{ ou $X\\approx \\mathcal{P}(3)$}\n",
    "      &=&1-0.9665=0.0335\\\\\n",
    "P(X=6)&=&P(X\\geq 6)-P(X\\geq 5)\\\\\n",
    "      &\\simeq&P(X\\geq 6)-P(X\\geq 5) \\mbox{ ou $X\\approx \\mathcal{P}(3)$}\n",
    "      &=&0.9665-0.9161=0.0504\\\\\n",
    "P(X<6)&=&P(X\\leq 5)\\\\\n",
    "      &\\simeq&P(X\\geq 5)=0.9161 \\mbox{ ou $X\\approx \\mathcal{P}(3)$}\\\\\n",
    "\\end{eqnarray*}\n",
    "$$"
   ]
  },
  {
   "cell_type": "markdown",
   "metadata": {},
   "source": [
    "4)La loi de probabilité de $Y$ est<br>\n",
    "<table>\n",
    "    <thead>\n",
    "    <tr>\n",
    "    <th>Y=y</th>\n",
    "    <th>-1000</th>\n",
    "    <th>100</th>\n",
    "    <th>1000</th>\n",
    "    </tr>\n",
    "    </thead>\n",
    "    <tbody>\n",
    "    <tr>\n",
    "    <th>P(Y=y)</th>\n",
    "    <th>0.9161</th>\n",
    "    <th>0.0335</th>\n",
    "    <th>0.0504</th>\n",
    "    </tr>\n",
    "    </tbody>    \n",
    "</table><br><br>\n",
    "On a donc $E(Y)=\\sum_{y\\in Supp_{Y}}yP(Y=y)=-1000\\times 0.9161+100\\times 0.0335+1000\\times0.0504=-862,35$. Donc en moyenne elle perdra 862.35 euros si elle accepte le deal, donc il vaut mieux refuser."
   ]
  },
  {
   "cell_type": "markdown",
   "metadata": {},
   "source": [
    "## Partie B"
   ]
  },
  {
   "cell_type": "markdown",
   "metadata": {},
   "source": [
    "1) On a 1060 billets de 5 euros pour 1600 billets. La probabilité de tirer un billet de 5 euros est p=1060/1600=0.6625. On fait n=100 tirage avec remise.<br><br>\n",
    "$Z$ le nombre de billet de 5 euros tirés suit une loi binomiale de parmètres n=100 et p=0.6625, $Z\\sim\\mathcal{B}(100,0.6625)$<br><br>\n",
    "Le support de $Z$ est $Supp_{Z}=\\{0,1,2,\\dots,100\\}$. On a $P(Z=k)={100 \\choose k}0.6625^{k}\\times (1-0.6625)^{100-k}$.<br><br>\n",
    "On a $E(Z)=np=100\\times 0.6625=66.25$ et $V(Z)=npq=100\\times 0.6625\\times (1-0.6625)\\simeq 22.36$"
   ]
  },
  {
   "cell_type": "markdown",
   "metadata": {},
   "source": [
    "<font size=\"10\"><span>&#9888;</span></font> <font size=\"5\">lire la section 7.3 page 68</font>"
   ]
  },
  {
   "cell_type": "markdown",
   "metadata": {},
   "source": [
    "2) $Z$ est binomiale de paramètres n=100 et p=0.6625. On a donc $n=100\\geq 50$ et $npq=100×0.6625×(1−0.6625)\\simeq 22.36>18$. On peut approximer $Z$ par une loi normale de paramètre $m=np=66.25$ et $\\sigma=\\sqrt{npq}\\simeq\\sqrt{22.36}$.<br>\n",
    "On utilise la notation $\\mathcal{B}(100,0.6625)\\approx\\mathcal{N}(66.25,\\sqrt{22.36})$<br>\n",
    "On en déduit que $U=\\frac{Z-66.25}{\\sqrt{22.36}}$ est approximé par $\\mathcal{N}(0,1)$."
   ]
  },
  {
   "cell_type": "markdown",
   "metadata": {},
   "source": [
    "On cherche $b$ pour avoir $P(Z>b)=0.6$:<br><br>\n",
    "$\n",
    "\\begin{eqnarray*}\n",
    "P(Z>b)&=&P\\left(\\frac{Z-66.25}{\\sqrt{22.36}}>\\frac{b-66.25}{\\sqrt{22.36}}\\right)\\\\\n",
    "      &\\simeq&P\\left(U>\\frac{b-66.25}{\\sqrt{22.36}}\\right) \\mbox{ ou $U=\\frac{Z-66.25}{\\sqrt{22.36}}\\approx\\mathcal{N(0,1)}$}\\\\\n",
    "      &\\Leftrightarrow&\\\\\n",
    "P\\left(U>\\frac{b-66.25}{\\sqrt{22.36}}\\right)&=&0.6 \\mbox{ ou $U=\\frac{Z-66.25}{\\sqrt{22.36}}\\approx\\mathcal{N(0,1)}$}\\\\\n",
    "      &\\Leftrightarrow&\\\\\n",
    "1-P\\left(U\\leq\\frac{b-66.25}{\\sqrt{22.36}}\\right)&=&0.6 \\mbox{ ou $U=\\frac{Z-66.25}{\\sqrt{22.36}}\\approx\\mathcal{N(0,1)}$}\\\\\n",
    "      &\\Leftrightarrow&\\\\\n",
    "P\\left(U\\leq\\frac{b-66.25}{\\sqrt{22.36}}\\right)&=&0.4 \\mbox{ ou $U=\\frac{Z-66.25}{\\sqrt{22.36}}\\approx\\mathcal{N(0,1)}$}\\\\\n",
    "      &\\Leftrightarrow&\\\\\n",
    "\\frac{b-66.25}{\\sqrt{22.36}}&=&-0.2533 \\mbox{ page 12 des tables, ligne 0.4}\\\\\n",
    "      &\\Leftrightarrow&\\\\\n",
    "      b&=&-0.2533\\times \\sqrt{22.36}+66.25\\simeq 65.05\n",
    "\\end{eqnarray*}\n",
    "$"
   ]
  },
  {
   "cell_type": "markdown",
   "metadata": {},
   "source": [
    "$a$ est la valeur entière supérieure de $b$ donc $a$=66."
   ]
  },
  {
   "cell_type": "markdown",
   "metadata": {},
   "source": [
    "3) On utilise l'approximation de $Z$ par $\\mathcal{N}(66.25,\\sqrt{22.36})$<br>\n",
    "$\\begin{eqnarray*}\n",
    "P(Z>66)&=&P\\left(\\frac{Z-66.25}{\\sqrt{22.36}}>\\frac{66-66.25}{\\sqrt{22.36}} \\right)\\\\\n",
    "       &=&1-P\\left(\\frac{Z-66.25}{\\sqrt{22.36}}\\leq\\frac{66-66.25}{\\sqrt{22.36}} \\right)\\\\\n",
    "       &=&1-P\\left(\\frac{Z-66.25}{\\sqrt{22.36}}\\leq\\frac{66-66.25}{\\sqrt{22.36}} \\right)\\\\\n",
    "       &=&1-P\\left(\\frac{Z-66.25}{\\sqrt{22.36}}\\leq -0.05\\right)\\\\\n",
    "       &=&1-(1-P\\left(\\frac{Z-66.25}{\\sqrt{22.36}}\\leq 0.05\\right))\\\\\n",
    "       &=&P\\left(\\frac{Z-66.25}{\\sqrt{22.36}}\\leq 0.05\\right)\\\\\n",
    "       &\\simeq&P\\left(U\\leq 0.05\\right) \\mbox{ ou $U\\approx \\mathcal{N}(0,1)$}\\\\\n",
    "       &=&0.5199 \\mbox{ table page 11 colonne 0.05}\n",
    "\\end{eqnarray*}$"
   ]
  },
  {
   "cell_type": "markdown",
   "metadata": {},
   "source": [
    "<font size=\"10\"><span>&#9888;</span></font> <font size=\"5\">lire la section 7.4 page 69 sur la correction de continuité.</font>"
   ]
  },
  {
   "cell_type": "markdown",
   "metadata": {},
   "source": [
    "On calcule $P(Z=66)$ avec l'appoximation $Z\\approx\\mathcal{N}(66.25,\\sqrt{22.36})$. On utilise le fait que $U=\\frac{Z-66.25}{\\sqrt{22.36}}\\approx \\mathcal{N}(0,1)$. On va faire une correction de continuité. Pour cela on utilise le fait que $P(Z=66)=P(66-1/2<Z<66+1/2)$.<br>\n",
    "On rappelle que $\\Phi$ désigne le fonction de répartition de la loi normale centrée réduite (cf page 64)."
   ]
  },
  {
   "cell_type": "markdown",
   "metadata": {},
   "source": [
    "On fait le calcule:<br><br>\n",
    "$\\begin{eqnarray*}\n",
    "P(Z=66)&=&P(66-1/2<Z<66+1/2)=P(65.5<Z<66.5)\\\\\n",
    "       &=&P\\left(\\frac{65.5-66.25}{\\sqrt{22.36}}<\\frac{Z-66.25}{\\sqrt{22.36}}<\\frac{66.5-66.25}{\\sqrt{22.36}}\\right)\\\\\n",
    "       &\\simeq&P(-0.16<U<0.05) \\mbox{ ou $U=\\frac{Z-66.25}{\\sqrt{22.36}}\\approx \\mathcal{N}(0,1)$}\\\\\n",
    "       &=&P(U<0.05)-P(U\\leq -0.16)=P(U<0.05)-(1-P(U\\leq 0.16))\\\\\n",
    "       &=&P(U<0.05)+P(U\\leq 0.16)-1=\\Phi(0.05)+\\Phi(0.16)-1\\\\\n",
    "       &=&0.5199+0.5636-1=0.0835 \\mbox{ cf table page 11} \n",
    "\\end{eqnarray*}\n",
    "$    "
   ]
  },
  {
   "cell_type": "markdown",
   "metadata": {},
   "source": [
    "Enfin, on a $P(Z<66)=1-P(Z>66)-P(Z=66)=1-0.5199-0.0835=0.3965$."
   ]
  },
  {
   "cell_type": "markdown",
   "metadata": {},
   "source": [
    "4) On détermine la loi de probabilité de W.<br>\n",
    "* $P(W=-200)=P(Z<66)=0.3965$\n",
    "* $P(W=100)=P(Z>66)=0.5199$\n",
    "* $P(W=500)=P(Z=66)=0.0835$ \n",
    "\n",
    "La loi de $W$ est donc:<br><br>\n",
    "$\\begin{array}{|r|r|r|}\n",
    "   \\hline\n",
    "   W=w & -200 & 100 & 500 \\\\\n",
    "   \\hline\n",
    "   P(W=w) & 0.3965 & 0.5199 & 0.0835\\\\\n",
    "   \\hline\n",
    "\\end{array}$<br><br>\n",
    "On a donc $E(W)=\\sum w\\in Supp_{W}wP(W=w)=-200\\times0.3965+100\\times 0.5199+500\\times0.0835=14,44$,<br>\n",
    "donc elle peut esperer gagner 14,44 euros si elle eccepte le deal. Ce gain est trop faible, elle ne devrait pas accepter le deal. "
   ]
  }
 ],
 "metadata": {
  "kernelspec": {
   "display_name": "Python 3",
   "language": "python",
   "name": "python3"
  },
  "language_info": {
   "codemirror_mode": {
    "name": "ipython",
    "version": 3
   },
   "file_extension": ".py",
   "mimetype": "text/x-python",
   "name": "python",
   "nbconvert_exporter": "python",
   "pygments_lexer": "ipython3",
   "version": "3.7.1"
  }
 },
 "nbformat": 4,
 "nbformat_minor": 2
}
