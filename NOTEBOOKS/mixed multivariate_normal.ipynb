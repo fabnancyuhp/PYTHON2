{
 "cells": [
  {
   "cell_type": "markdown",
   "metadata": {},
   "source": [
    "Let the following Gaussian Mixture Models:\n",
    "$$f(x)=\\frac{1}{3}\\mathcal{N}(x,\\mu_{1},\\Sigma_{1})+\\frac{2}{3}\\mathcal{N}(x,\\mu_{2},\\sigma_{2})$$\n",
    "* $x=(x_{1},x_{2})^{T}$\n",
    "* $\\mu_{1}=(0,0)^{T}$ and $\\Sigma_{1}=\\left(\\begin{array}{cc}1 & 0  \\\\ 0 & 1 \\end{array}\\right)$\n",
    "* $\\mu_{2}=(1,1)^{T}$ and $\\Sigma_{2}=\\left(\\begin{array}{cc}0.25 & 0 \\\\ 0 & 0.25 \\end{array}\\right)$\n",
    "* $\\mathcal{N}(x,\\mu_{1},\\Sigma_{1})$ is probability density function for multivariate_normal with mean $\\mu_{1}$ and  covariance matrix $\\Sigma_{1}$.\n",
    "* $\\mathcal{N}(x,\\mu_{2},\\Sigma_{2})$ is probability density function for multivariate_normal with mean $\\mu_{2}$ and  covariance matrix $\\Sigma_{2}$.\n",
    "\n",
    "The goal is to draw a random sample from the probability distribution $f(x)$. \n",
    "* The size of the sample is 200. The sample is a 200 components vector.\n",
    "* Each component of the vector belongs to the density $\\mathcal{N}(x,\\mu_{1},\\Sigma_{1})$ with probability $\\frac{1}{3}$\n",
    "* Each component of the vector belongs to the density $\\mathcal{N}(x,\\mu_{2},\\sigma_{2})$ with probability $\\frac{2}{3}$\n",
    "* We call the random sample mixed_multivariate_normal"
   ]
  },
  {
   "cell_type": "markdown",
   "metadata": {},
   "source": [
    "In the following cell we draw the mixture_component of the 200 sized random sample. "
   ]
  },
  {
   "cell_type": "code",
   "execution_count": 5,
   "metadata": {},
   "outputs": [
    {
     "data": {
      "text/plain": [
       "array([2, 1, 2, 2, 1, 2, 2, 2, 2, 2, 1, 1, 2, 2, 1, 2])"
      ]
     },
     "execution_count": 5,
     "metadata": {},
     "output_type": "execute_result"
    }
   ],
   "source": [
    "import numpy as np\n",
    "mixture_component = np.random.choice([1,2],size=200, replace=True,p=[1/3,2/3])\n",
    "mixture_component[0:16]"
   ]
  },
  {
   "cell_type": "markdown",
   "metadata": {},
   "source": [
    "* mixture_component[0] is equal to 2, then the mixed_multivariate_normal[0] comes from $\\mathcal{N}(x,\\mu_{1},\\Sigma_{1})$.\n",
    "* mixture_component[1] is equal to 1, then the mixed_multivariate_normal[0] comes from $\\mathcal{N}(x,\\mu_{2},\\Sigma_{2})$."
   ]
  },
  {
   "cell_type": "markdown",
   "metadata": {},
   "source": [
    "A way to Draw random samples from a multivariate normal distribution : https://docs.scipy.org/doc/numpy-1.15.1/reference/generated/numpy.random.multivariate_normal.html"
   ]
  },
  {
   "cell_type": "markdown",
   "metadata": {},
   "source": [
    "A other link: https://docs.scipy.org/doc/scipy-0.14.0/reference/generated/scipy.stats.multivariate_normal.html"
   ]
  }
 ],
 "metadata": {
  "kernelspec": {
   "display_name": "Python 3",
   "language": "python",
   "name": "python3"
  },
  "language_info": {
   "codemirror_mode": {
    "name": "ipython",
    "version": 3
   },
   "file_extension": ".py",
   "mimetype": "text/x-python",
   "name": "python",
   "nbconvert_exporter": "python",
   "pygments_lexer": "ipython3",
   "version": "3.7.1"
  }
 },
 "nbformat": 4,
 "nbformat_minor": 2
}
