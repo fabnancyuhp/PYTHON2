{
 "cells": [
  {
   "cell_type": "markdown",
   "metadata": {},
   "source": [
    "# Exercice 2.8"
   ]
  },
  {
   "cell_type": "markdown",
   "metadata": {},
   "source": [
    "Le tableau ci-dessous donne le taux d'agressions (nombres d'agressions pour 100 000 habitants) de 16 villes américaines en 1970."
   ]
  },
  {
   "cell_type": "markdown",
   "metadata": {},
   "source": [
    "<table>\n",
    "<tr>    \n",
    "    <td>Honolulu</td>\n",
    "    <td>28</td>\n",
    "    <td>Washington</td>\n",
    "    <td>217</td>\n",
    "</tr>\n",
    "<tr>\n",
    "    <td>Boston</td>\n",
    "    <td>90</td>\n",
    "    <td>Detroit</td>\n",
    "    <td>220</td>\n",
    "</tr>\n",
    "<tr>\n",
    "    <td>Hartford</td>\n",
    "    <td>103</td>\n",
    "    <td>Kansas City</td>\n",
    "    <td>226</td>\n",
    "</tr>\n",
    "<tr>\n",
    "    <td>Portland</td>\n",
    "    <td>144</td>\n",
    "    <td>Chicago</td>\n",
    "    <td>242</td>\n",
    "</tr>\n",
    "<tr>\n",
    "    <td>Atlanta</td>\n",
    "    <td>147</td>\n",
    "    <td>New York</td>\n",
    "    <td>267</td>\n",
    "</tr> \n",
    "<tr>\n",
    "    <td>Tucson</td>\n",
    "    <td>148</td>\n",
    "    <td>New Orleans</td>\n",
    "    <td>283</td>\n",
    "</tr>\n",
    "<tr>\n",
    "    <td>Houston</td>\n",
    "    <td>186</td>\n",
    "    <td>Dallas</td>\n",
    "    <td>293</td>\n",
    "</tr>\n",
    "<tr>\n",
    "    <td>Denver</td>\n",
    "    <td>191</td>\n",
    "    <td>Los Angeles</td>\n",
    "    <td>355</td>\n",
    "</tr>    \n",
    "</table>"
   ]
  },
  {
   "cell_type": "markdown",
   "metadata": {},
   "source": [
    "1. Quelle est la population étudiée, sa taille, le caractére étudié, sa nature?\n",
    "2. Calculer le premier, deuxième et troisième quartiles. (Le détail du raisonnement devra apparaître).\n",
    "3. On souhaite tracer la boite de distribution. Quelles sont les quantités nécessaires?Les calculer.\n",
    "4. Tracer maintenant la boite de distribution.\n",
    "5. Commenter."
   ]
  },
  {
   "cell_type": "markdown",
   "metadata": {},
   "source": [
    "1/\n",
    "* La population étudié est ensemble de villes américaines.\n",
    "* La taille de la population est n=16\n",
    "* Le caractére étudié est le nombre d'agression pour 100 000 habitants\n",
    "* Ce caractére est quantitatif discret."
   ]
  },
  {
   "cell_type": "markdown",
   "metadata": {},
   "source": [
    "2/ \n",
    "On doit commencer par trier les données par odre croissant.<br> \n",
    "$$\\begin{array}{cccccccccccccccc}\n",
    "x_{(1)} & x_{(2)} & x_{(3)} & x_{(4)} & x_{(5)} & x_{(6)} & x_{(7)} & x_{(8)} & x_{(9)} & x_{(10)} & x_{(11)} & x_{(12)} & x_{(13)} & x_{(14)} & x_{(15)} & x_{(16)}\\\\\n",
    "28& 90& 103& 144& 147& 148& 186& 191& 217& 220& 226& 242& 267& 283& 293& 355\n",
    "\\end{array}$$"
   ]
  },
  {
   "cell_type": "markdown",
   "metadata": {},
   "source": [
    "#### Premier quartile (lire page 23)\n",
    "La taille de la série est n=16 et $\\alpha=1/4=0.25$ donc $n\\alpha=16\\times0.25=4\\in \\mathbb{N}^{*}$ donc $q_{0.25}=q_{1}=\\frac{x_{(n\\alpha)}+x_{(n\\alpha+1)}}{2}=\\frac{x_{(4)}+x_{(5)}}{2}=\\frac{144+147}{2}=145,5$"
   ]
  },
  {
   "cell_type": "markdown",
   "metadata": {},
   "source": [
    "#### Deuxième quartile\n",
    "Le deuxième quartile est également la médiane.<br>\n",
    "La taille de la série est n=16 et $\\alpha=2/4=0.5$ donc $n\\alpha=16\\times0.5=8\\in \\mathbb{N}^{*}$ donc\n",
    "$q_{0.5}=q_{2}=m_{e}\\frac{x_{(n\\alpha)}+x_{(n\\alpha+1)}}{2}=\\frac{x_{(8)}+x_{(9)}}{2}=\\frac{191+217}{2}=204$"
   ]
  },
  {
   "cell_type": "markdown",
   "metadata": {},
   "source": [
    "#### Troisième quartile \n",
    "La taille de la série est n=16 et $\\alpha=3/4=0.75$ donc $n\\alpha=16\\times0.75=12\\in \\mathbb{N}^{*}$ donc $q_{0.75}=q_{3}=\\frac{x_{(n\\alpha)}+x_{(n\\alpha+1)}}{2}=\\frac{x_{(12)}+x_{(13)}}{2}=\\frac{242+267}{2}=254.5$"
   ]
  },
  {
   "cell_type": "markdown",
   "metadata": {},
   "source": [
    "3/ Lire la section 2.3<br> \n",
    "On a besoin des premier, deuxième et troisième quartiles calculés à la question 2. On a besoin des quantitées suplémentaires:\n",
    "* la distance interquartiles: $IQ=q_{0.75}-q_{0.25}=q_{3}-q_{1}=254,5-145,5=109$\n",
    "* $a = q_{0.25}-1.5IQ=145.5-1.5\\times 109=-18$\n",
    "* $b = q_{0.75}+1.5IQ=254.5+1.5\\times 109= 418$\n",
    "* $x_{a}=\\min\\{x_{i}| x_{i}>=a\\}=\\min\\{x_{i}| x_{i}>=-18\\}=28$\n",
    "* $x_{b}=\\max\\{x_{i}| x_{i}<=b\\}=\\max\\{x_{i}| x_{i}<=418\\}=355$\n",
    "* $x_{a}$ et $x_{b}$ sont les valeurs adjacentes\n",
    "* les valeurs extrêmes : $VE=\\{x_{i}| x_{i} \\notin [x_{a},x_{b}]\\}=\\{x_{i}| x_{i} \\notin [28,355]\\}=\\emptyset$. Il n'y a pas de valeurs extrêmes. "
   ]
  },
  {
   "cell_type": "markdown",
   "metadata": {},
   "source": [
    "4/ On trace la boîte de distribution"
   ]
  },
  {
   "cell_type": "code",
   "execution_count": 56,
   "metadata": {},
   "outputs": [
    {
     "data": {
      "image/png": "[encoded data removed]",
      "text/plain": [
       "<Figure size 432x288 with 1 Axes>"
      ]
     },
     "metadata": {
      "needs_background": "light"
     },
     "output_type": "display_data"
    }
   ],
   "source": []
  },
  {
   "cell_type": "markdown",
   "metadata": {},
   "source": [
    "5/Pas de valeurs extrêmes, population plutôt homogène, même si la boite est assez étendue. La médiane est au centre de la boite."
   ]
  }
 ],
 "metadata": {
  "kernelspec": {
   "display_name": "Python 3",
   "language": "python",
   "name": "python3"
  },
  "language_info": {
   "codemirror_mode": {
    "name": "ipython",
    "version": 3
   },
   "file_extension": ".py",
   "mimetype": "text/x-python",
   "name": "python",
   "nbconvert_exporter": "python",
   "pygments_lexer": "ipython3",
   "version": "3.7.1"
  }
 },
 "nbformat": 4,
 "nbformat_minor": 2
}
